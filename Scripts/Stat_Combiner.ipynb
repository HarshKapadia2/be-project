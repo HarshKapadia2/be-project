{
 "cells": [
  {
   "cell_type": "code",
   "execution_count": 415,
   "id": "6dcb692e",
   "metadata": {},
   "outputs": [],
   "source": [
    "import pandas as pd\n",
    "import numpy as np"
   ]
  },
  {
   "cell_type": "code",
   "execution_count": 416,
   "id": "4a8b242c",
   "metadata": {},
   "outputs": [],
   "source": [
    "YEARS=3"
   ]
  },
  {
   "cell_type": "code",
   "execution_count": 417,
   "id": "5747c910",
   "metadata": {},
   "outputs": [],
   "source": [
    "dataset=[]\n",
    "for i in range(YEARS):\n",
    "    dataset.append(pd.read_excel('y'+str(i+1)+'.xlsx','Batsmen'))"
   ]
  },
  {
   "cell_type": "code",
   "execution_count": 418,
   "id": "443d54f1",
   "metadata": {},
   "outputs": [],
   "source": [
    "curr=dataset"
   ]
  },
  {
   "cell_type": "code",
   "execution_count": 419,
   "id": "0325dfce",
   "metadata": {},
   "outputs": [],
   "source": [
    "# name_dict={value:curr[0].iloc[:,1:].values[idx] for idx,value in enumerate(curr[0].iloc[:,0].values)}"
   ]
  },
  {
   "cell_type": "code",
   "execution_count": 420,
   "id": "4dd42dba",
   "metadata": {},
   "outputs": [],
   "source": [
    "name_dict_array=[]\n",
    "for i in range(YEARS):\n",
    "    temp={value:curr[i].iloc[:,1:].values[idx] for idx,value in enumerate(curr[i].iloc[:,0].values)}\n",
    "    name_dict_array.append(temp)"
   ]
  },
  {
   "cell_type": "code",
   "execution_count": 421,
   "id": "2799456b",
   "metadata": {},
   "outputs": [
    {
     "data": {
      "text/plain": [
       "array([ 14.  ,   2.  , 659.  ,  54.91, 416.  , 158.41])"
      ]
     },
     "execution_count": 421,
     "metadata": {},
     "output_type": "execute_result"
    }
   ],
   "source": [
    "name_dict_array[0].get('KL Rahul')"
   ]
  },
  {
   "cell_type": "code",
   "execution_count": 422,
   "id": "478102fe",
   "metadata": {},
   "outputs": [
    {
     "data": {
      "text/plain": [
       "3"
      ]
     },
     "execution_count": 422,
     "metadata": {},
     "output_type": "execute_result"
    }
   ],
   "source": [
    "name_dict_array.__len__()"
   ]
  },
  {
   "cell_type": "code",
   "execution_count": 423,
   "id": "85691405",
   "metadata": {},
   "outputs": [
    {
     "name": "stdout",
     "output_type": "stream",
     "text": [
      "2 144\n"
     ]
    }
   ],
   "source": [
    "temp=[len(i) for i in name_dict_array]\n",
    "idx=0\n",
    "R=len(name_dict_array[0])\n",
    "for i,j in enumerate(temp):\n",
    "    if(j>R):\n",
    "        R=j\n",
    "        idx=i\n",
    "print(idx,R)"
   ]
  },
  {
   "cell_type": "code",
   "execution_count": 424,
   "id": "73ae8262",
   "metadata": {},
   "outputs": [],
   "source": [
    "ref=name_dict_array.pop(idx)"
   ]
  },
  {
   "cell_type": "code",
   "execution_count": 425,
   "id": "08152028",
   "metadata": {},
   "outputs": [],
   "source": [
    "YEARS-=1"
   ]
  },
  {
   "cell_type": "code",
   "execution_count": 426,
   "id": "8c2e7854",
   "metadata": {
    "scrolled": true
   },
   "outputs": [],
   "source": [
    "def help(arr):\n",
    "    for i in arr:\n",
    "        if(i is None):\n",
    "            return False\n",
    "    return True\n",
    "\n",
    "\n",
    "def help2(a):\n",
    "    L=len(a)\n",
    "    M=len(a[0])\n",
    "    temp=[]\n",
    "    for i in range(M):\n",
    "        S=0\n",
    "        for j in range(L):\n",
    "            S+=a[j][i]\n",
    "        temp.append(S/(YEARS+1))\n",
    "    return temp\n",
    "\n",
    "    \n",
    "    \n",
    "final=[]\n",
    "for i in range(YEARS):\n",
    "    for ref_name in ref.keys():\n",
    "        temp=[ref[ref_name],*[x.get(ref_name) for x in name_dict_array]]\n",
    "        if(not help(temp)):\n",
    "            continue   \n",
    "        final.append([ref_name,*help2(temp)])\n",
    "        \n",
    "        "
   ]
  },
  {
   "cell_type": "code",
   "execution_count": 427,
   "id": "6a7cd050",
   "metadata": {},
   "outputs": [
    {
     "data": {
      "text/html": [
       "<div>\n",
       "<style scoped>\n",
       "    .dataframe tbody tr th:only-of-type {\n",
       "        vertical-align: middle;\n",
       "    }\n",
       "\n",
       "    .dataframe tbody tr th {\n",
       "        vertical-align: top;\n",
       "    }\n",
       "\n",
       "    .dataframe thead th {\n",
       "        text-align: right;\n",
       "    }\n",
       "</style>\n",
       "<table border=\"1\" class=\"dataframe\">\n",
       "  <thead>\n",
       "    <tr style=\"text-align: right;\">\n",
       "      <th></th>\n",
       "      <th>Player</th>\n",
       "      <th>Inns</th>\n",
       "      <th>NO</th>\n",
       "      <th>Runs</th>\n",
       "      <th>Avg</th>\n",
       "      <th>BF</th>\n",
       "      <th>SR</th>\n",
       "    </tr>\n",
       "  </thead>\n",
       "  <tbody>\n",
       "    <tr>\n",
       "      <th>0</th>\n",
       "      <td>Shikhar Dhawan</td>\n",
       "      <td>15.333333</td>\n",
       "      <td>1.666667</td>\n",
       "      <td>499.000000</td>\n",
       "      <td>36.600000</td>\n",
       "      <td>374.333333</td>\n",
       "      <td>133.323333</td>\n",
       "    </tr>\n",
       "    <tr>\n",
       "      <th>1</th>\n",
       "      <td>Chris Gayle</td>\n",
       "      <td>11.000000</td>\n",
       "      <td>1.000000</td>\n",
       "      <td>352.666667</td>\n",
       "      <td>34.643333</td>\n",
       "      <td>244.666667</td>\n",
       "      <td>140.773333</td>\n",
       "    </tr>\n",
       "    <tr>\n",
       "      <th>2</th>\n",
       "      <td>Rishabh Pant</td>\n",
       "      <td>14.666667</td>\n",
       "      <td>1.333333</td>\n",
       "      <td>512.666667</td>\n",
       "      <td>38.760000</td>\n",
       "      <td>305.000000</td>\n",
       "      <td>167.290000</td>\n",
       "    </tr>\n",
       "    <tr>\n",
       "      <th>3</th>\n",
       "      <td>Virat Kohli</td>\n",
       "      <td>12.666667</td>\n",
       "      <td>1.000000</td>\n",
       "      <td>434.000000</td>\n",
       "      <td>37.373333</td>\n",
       "      <td>320.333333</td>\n",
       "      <td>134.260000</td>\n",
       "    </tr>\n",
       "    <tr>\n",
       "      <th>4</th>\n",
       "      <td>Shreyas Iyer</td>\n",
       "      <td>14.000000</td>\n",
       "      <td>2.000000</td>\n",
       "      <td>404.000000</td>\n",
       "      <td>34.006667</td>\n",
       "      <td>313.000000</td>\n",
       "      <td>130.536667</td>\n",
       "    </tr>\n",
       "    <tr>\n",
       "      <th>...</th>\n",
       "      <td>...</td>\n",
       "      <td>...</td>\n",
       "      <td>...</td>\n",
       "      <td>...</td>\n",
       "      <td>...</td>\n",
       "      <td>...</td>\n",
       "      <td>...</td>\n",
       "    </tr>\n",
       "    <tr>\n",
       "      <th>149</th>\n",
       "      <td>Siddarth Kaul</td>\n",
       "      <td>2.333333</td>\n",
       "      <td>1.000000</td>\n",
       "      <td>1.000000</td>\n",
       "      <td>0.333333</td>\n",
       "      <td>5.666667</td>\n",
       "      <td>7.140000</td>\n",
       "    </tr>\n",
       "    <tr>\n",
       "      <th>150</th>\n",
       "      <td>Jasprit Bumrah</td>\n",
       "      <td>2.666667</td>\n",
       "      <td>2.000000</td>\n",
       "      <td>8.666667</td>\n",
       "      <td>8.666667</td>\n",
       "      <td>8.000000</td>\n",
       "      <td>74.743333</td>\n",
       "    </tr>\n",
       "    <tr>\n",
       "      <th>151</th>\n",
       "      <td>Andrew Tye</td>\n",
       "      <td>4.000000</td>\n",
       "      <td>1.333333</td>\n",
       "      <td>28.333333</td>\n",
       "      <td>10.610000</td>\n",
       "      <td>23.333333</td>\n",
       "      <td>86.956667</td>\n",
       "    </tr>\n",
       "    <tr>\n",
       "      <th>152</th>\n",
       "      <td>Mohit Sharma</td>\n",
       "      <td>4.000000</td>\n",
       "      <td>1.666667</td>\n",
       "      <td>20.333333</td>\n",
       "      <td>6.166667</td>\n",
       "      <td>21.666667</td>\n",
       "      <td>59.640000</td>\n",
       "    </tr>\n",
       "    <tr>\n",
       "      <th>153</th>\n",
       "      <td>Sam Billings</td>\n",
       "      <td>5.000000</td>\n",
       "      <td>0.000000</td>\n",
       "      <td>82.000000</td>\n",
       "      <td>12.166667</td>\n",
       "      <td>62.000000</td>\n",
       "      <td>90.383333</td>\n",
       "    </tr>\n",
       "  </tbody>\n",
       "</table>\n",
       "<p>154 rows × 7 columns</p>\n",
       "</div>"
      ],
      "text/plain": [
       "             Player       Inns        NO        Runs        Avg          BF  \\\n",
       "0    Shikhar Dhawan  15.333333  1.666667  499.000000  36.600000  374.333333   \n",
       "1       Chris Gayle  11.000000  1.000000  352.666667  34.643333  244.666667   \n",
       "2      Rishabh Pant  14.666667  1.333333  512.666667  38.760000  305.000000   \n",
       "3       Virat Kohli  12.666667  1.000000  434.000000  37.373333  320.333333   \n",
       "4      Shreyas Iyer  14.000000  2.000000  404.000000  34.006667  313.000000   \n",
       "..              ...        ...       ...         ...        ...         ...   \n",
       "149   Siddarth Kaul   2.333333  1.000000    1.000000   0.333333    5.666667   \n",
       "150  Jasprit Bumrah   2.666667  2.000000    8.666667   8.666667    8.000000   \n",
       "151      Andrew Tye   4.000000  1.333333   28.333333  10.610000   23.333333   \n",
       "152    Mohit Sharma   4.000000  1.666667   20.333333   6.166667   21.666667   \n",
       "153    Sam Billings   5.000000  0.000000   82.000000  12.166667   62.000000   \n",
       "\n",
       "             SR  \n",
       "0    133.323333  \n",
       "1    140.773333  \n",
       "2    167.290000  \n",
       "3    134.260000  \n",
       "4    130.536667  \n",
       "..          ...  \n",
       "149    7.140000  \n",
       "150   74.743333  \n",
       "151   86.956667  \n",
       "152   59.640000  \n",
       "153   90.383333  \n",
       "\n",
       "[154 rows x 7 columns]"
      ]
     },
     "execution_count": 427,
     "metadata": {},
     "output_type": "execute_result"
    }
   ],
   "source": [
    "batsmen_final_list=pd.DataFrame(final,columns=['Player','Inns','NO','Runs','Avg','BF','SR'])\n",
    "batsmen_final_list"
   ]
  },
  {
   "cell_type": "markdown",
   "id": "da9ade18",
   "metadata": {},
   "source": [
    "# Bowlers"
   ]
  },
  {
   "cell_type": "code",
   "execution_count": 428,
   "id": "a2ad51e1",
   "metadata": {},
   "outputs": [],
   "source": [
    "YEARS=3"
   ]
  },
  {
   "cell_type": "code",
   "execution_count": 429,
   "id": "e75b4b4f",
   "metadata": {},
   "outputs": [],
   "source": [
    "dataset=[]\n",
    "for i in range(YEARS):\n",
    "    dataset.append(pd.read_excel('y'+str(i+1)+'.xlsx','Bowlers'))"
   ]
  },
  {
   "cell_type": "code",
   "execution_count": 430,
   "id": "6a1d7284",
   "metadata": {},
   "outputs": [],
   "source": [
    "curr=dataset"
   ]
  },
  {
   "cell_type": "code",
   "execution_count": 431,
   "id": "8275996b",
   "metadata": {},
   "outputs": [],
   "source": [
    "# name_dict={value:curr[0].iloc[:,1:].values[idx] for idx,value in enumerate(curr[0].iloc[:,0].values)}"
   ]
  },
  {
   "cell_type": "code",
   "execution_count": 432,
   "id": "3628eb27",
   "metadata": {},
   "outputs": [],
   "source": [
    "name_dict_array=[]\n",
    "for i in range(YEARS):\n",
    "    temp={value:curr[i].iloc[:,1:].values[idx] for idx,value in enumerate(curr[i].iloc[:,0].values)}\n",
    "    name_dict_array.append(temp)"
   ]
  },
  {
   "cell_type": "code",
   "execution_count": 433,
   "id": "ea5ba43d",
   "metadata": {},
   "outputs": [],
   "source": [
    "name_dict_array[0].get('KL Rahul')"
   ]
  },
  {
   "cell_type": "code",
   "execution_count": 434,
   "id": "4c490067",
   "metadata": {},
   "outputs": [
    {
     "data": {
      "text/plain": [
       "3"
      ]
     },
     "execution_count": 434,
     "metadata": {},
     "output_type": "execute_result"
    }
   ],
   "source": [
    "name_dict_array.__len__()"
   ]
  },
  {
   "cell_type": "code",
   "execution_count": 435,
   "id": "3050068d",
   "metadata": {},
   "outputs": [
    {
     "name": "stdout",
     "output_type": "stream",
     "text": [
      "1 106\n"
     ]
    }
   ],
   "source": [
    "temp=[len(i) for i in name_dict_array]\n",
    "idx=0\n",
    "R=len(name_dict_array[0])\n",
    "for i,j in enumerate(temp):\n",
    "    if(j>R):\n",
    "        R=j\n",
    "        idx=i\n",
    "print(idx,R)"
   ]
  },
  {
   "cell_type": "code",
   "execution_count": 436,
   "id": "e31c7a3f",
   "metadata": {},
   "outputs": [],
   "source": [
    "ref=name_dict_array.pop(idx)"
   ]
  },
  {
   "cell_type": "code",
   "execution_count": 437,
   "id": "98d40a47",
   "metadata": {},
   "outputs": [],
   "source": [
    "YEARS-=1"
   ]
  },
  {
   "cell_type": "code",
   "execution_count": 438,
   "id": "4d82187c",
   "metadata": {
    "scrolled": true
   },
   "outputs": [],
   "source": [
    "def help(arr):\n",
    "    for i in arr:\n",
    "        if(i is None):\n",
    "            return False\n",
    "    return True\n",
    "\n",
    "\n",
    "def help2(a):\n",
    "    L=len(a)\n",
    "    M=len(a[0])\n",
    "    temp=[]\n",
    "    for i in range(M):\n",
    "        S=0\n",
    "        for j in range(L):\n",
    "            S+=a[j][i]\n",
    "        temp.append(S/(YEARS+1))\n",
    "    return temp\n",
    "\n",
    "    \n",
    "    \n",
    "final=[]\n",
    "for i in range(YEARS):\n",
    "    for ref_name in ref.keys():\n",
    "        temp=[ref[ref_name],*[x.get(ref_name) for x in name_dict_array]]\n",
    "        if(not help(temp)):\n",
    "            continue   \n",
    "        final.append([ref_name,*help2(temp)])\n",
    "        \n",
    "        "
   ]
  },
  {
   "cell_type": "code",
   "execution_count": 439,
   "id": "f94a5f4a",
   "metadata": {},
   "outputs": [
    {
     "data": {
      "text/html": [
       "<div>\n",
       "<style scoped>\n",
       "    .dataframe tbody tr th:only-of-type {\n",
       "        vertical-align: middle;\n",
       "    }\n",
       "\n",
       "    .dataframe tbody tr th {\n",
       "        vertical-align: top;\n",
       "    }\n",
       "\n",
       "    .dataframe thead th {\n",
       "        text-align: right;\n",
       "    }\n",
       "</style>\n",
       "<table border=\"1\" class=\"dataframe\">\n",
       "  <thead>\n",
       "    <tr style=\"text-align: right;\">\n",
       "      <th></th>\n",
       "      <th>Player</th>\n",
       "      <th>Ov</th>\n",
       "      <th>Wkts</th>\n",
       "      <th>Avg</th>\n",
       "      <th>Econ</th>\n",
       "      <th>SR</th>\n",
       "    </tr>\n",
       "  </thead>\n",
       "  <tbody>\n",
       "    <tr>\n",
       "      <th>0</th>\n",
       "      <td>Bhuvneshwar Kumar</td>\n",
       "      <td>52.433333</td>\n",
       "      <td>16.000000</td>\n",
       "      <td>29.660000</td>\n",
       "      <td>7.506667</td>\n",
       "      <td>23.356667</td>\n",
       "    </tr>\n",
       "    <tr>\n",
       "      <th>1</th>\n",
       "      <td>Jaydev Unadkat</td>\n",
       "      <td>44.300000</td>\n",
       "      <td>15.000000</td>\n",
       "      <td>32.463333</td>\n",
       "      <td>9.110000</td>\n",
       "      <td>20.433333</td>\n",
       "    </tr>\n",
       "    <tr>\n",
       "      <th>2</th>\n",
       "      <td>Jasprit Bumrah</td>\n",
       "      <td>58.200000</td>\n",
       "      <td>18.666667</td>\n",
       "      <td>21.783333</td>\n",
       "      <td>6.966667</td>\n",
       "      <td>18.773333</td>\n",
       "    </tr>\n",
       "    <tr>\n",
       "      <th>3</th>\n",
       "      <td>Mitchell McClenaghan</td>\n",
       "      <td>37.333333</td>\n",
       "      <td>12.000000</td>\n",
       "      <td>32.573333</td>\n",
       "      <td>8.520000</td>\n",
       "      <td>23.396667</td>\n",
       "    </tr>\n",
       "    <tr>\n",
       "      <th>4</th>\n",
       "      <td>Rashid Khan</td>\n",
       "      <td>60.666667</td>\n",
       "      <td>18.333333</td>\n",
       "      <td>21.673333</td>\n",
       "      <td>6.543333</td>\n",
       "      <td>19.880000</td>\n",
       "    </tr>\n",
       "    <tr>\n",
       "      <th>...</th>\n",
       "      <td>...</td>\n",
       "      <td>...</td>\n",
       "      <td>...</td>\n",
       "      <td>...</td>\n",
       "      <td>...</td>\n",
       "      <td>...</td>\n",
       "    </tr>\n",
       "    <tr>\n",
       "      <th>91</th>\n",
       "      <td>Yusuf Pathan</td>\n",
       "      <td>2.333333</td>\n",
       "      <td>0.666667</td>\n",
       "      <td>18.333333</td>\n",
       "      <td>8.416667</td>\n",
       "      <td>12.000000</td>\n",
       "    </tr>\n",
       "    <tr>\n",
       "      <th>92</th>\n",
       "      <td>Deepak Chahar</td>\n",
       "      <td>36.466667</td>\n",
       "      <td>11.000000</td>\n",
       "      <td>41.233333</td>\n",
       "      <td>8.440000</td>\n",
       "      <td>27.496667</td>\n",
       "    </tr>\n",
       "    <tr>\n",
       "      <th>93</th>\n",
       "      <td>Carlos Brathwaite</td>\n",
       "      <td>6.366667</td>\n",
       "      <td>2.000000</td>\n",
       "      <td>28.600000</td>\n",
       "      <td>10.020000</td>\n",
       "      <td>16.066667</td>\n",
       "    </tr>\n",
       "    <tr>\n",
       "      <th>94</th>\n",
       "      <td>Shakib Al Hasan</td>\n",
       "      <td>23.500000</td>\n",
       "      <td>5.333333</td>\n",
       "      <td>26.690000</td>\n",
       "      <td>9.030000</td>\n",
       "      <td>18.973333</td>\n",
       "    </tr>\n",
       "    <tr>\n",
       "      <th>95</th>\n",
       "      <td>Barinder Sran</td>\n",
       "      <td>9.333333</td>\n",
       "      <td>1.333333</td>\n",
       "      <td>19.083333</td>\n",
       "      <td>12.550000</td>\n",
       "      <td>11.000000</td>\n",
       "    </tr>\n",
       "  </tbody>\n",
       "</table>\n",
       "<p>96 rows × 6 columns</p>\n",
       "</div>"
      ],
      "text/plain": [
       "                  Player         Ov       Wkts        Avg       Econ  \\\n",
       "0      Bhuvneshwar Kumar  52.433333  16.000000  29.660000   7.506667   \n",
       "1         Jaydev Unadkat  44.300000  15.000000  32.463333   9.110000   \n",
       "2         Jasprit Bumrah  58.200000  18.666667  21.783333   6.966667   \n",
       "3   Mitchell McClenaghan  37.333333  12.000000  32.573333   8.520000   \n",
       "4            Rashid Khan  60.666667  18.333333  21.673333   6.543333   \n",
       "..                   ...        ...        ...        ...        ...   \n",
       "91          Yusuf Pathan   2.333333   0.666667  18.333333   8.416667   \n",
       "92         Deepak Chahar  36.466667  11.000000  41.233333   8.440000   \n",
       "93     Carlos Brathwaite   6.366667   2.000000  28.600000  10.020000   \n",
       "94       Shakib Al Hasan  23.500000   5.333333  26.690000   9.030000   \n",
       "95         Barinder Sran   9.333333   1.333333  19.083333  12.550000   \n",
       "\n",
       "           SR  \n",
       "0   23.356667  \n",
       "1   20.433333  \n",
       "2   18.773333  \n",
       "3   23.396667  \n",
       "4   19.880000  \n",
       "..        ...  \n",
       "91  12.000000  \n",
       "92  27.496667  \n",
       "93  16.066667  \n",
       "94  18.973333  \n",
       "95  11.000000  \n",
       "\n",
       "[96 rows x 6 columns]"
      ]
     },
     "execution_count": 439,
     "metadata": {},
     "output_type": "execute_result"
    }
   ],
   "source": [
    "bowlers_final_list=pd.DataFrame(final,columns=['Player','Ov','Wkts','Avg','Econ','SR'])\n",
    "bowlers_final_list"
   ]
  },
  {
   "cell_type": "code",
   "execution_count": 440,
   "id": "ec76a63c",
   "metadata": {},
   "outputs": [],
   "source": [
    "import xlsxwriter\n",
    "writer = pd.ExcelWriter('merged.xlsx', engine='xlsxwriter')\n",
    "batsmen_final_list.to_excel(writer, sheet_name='Batsmen',index=False)\n",
    "bowlers_final_list.to_excel(writer, sheet_name='Bowlers',index=False)\n",
    "writer.save()"
   ]
  }
 ],
 "metadata": {
  "kernelspec": {
   "display_name": "Python 3 (ipykernel)",
   "language": "python",
   "name": "python3"
  },
  "language_info": {
   "codemirror_mode": {
    "name": "ipython",
    "version": 3
   },
   "file_extension": ".py",
   "mimetype": "text/x-python",
   "name": "python",
   "nbconvert_exporter": "python",
   "pygments_lexer": "ipython3",
   "version": "3.9.6"
  }
 },
 "nbformat": 4,
 "nbformat_minor": 5
}
