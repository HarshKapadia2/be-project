{
 "cells": [
  {
   "cell_type": "code",
   "execution_count": 1,
   "id": "46c68821",
   "metadata": {},
   "outputs": [],
   "source": [
    "import numpy as np\n",
    "import pandas as pd"
   ]
  },
  {
   "cell_type": "code",
   "execution_count": 2,
   "id": "26e3494f",
   "metadata": {},
   "outputs": [],
   "source": [
    "dataset=pd.read_excel('../final_dataset_merged_v2.xlsx','Batsmen')\n",
    "X = dataset.iloc[:, 1:-1].values\n",
    "y = dataset.iloc[:, -1].values"
   ]
  },
  {
   "cell_type": "code",
   "execution_count": 3,
   "id": "b055dbdc",
   "metadata": {},
   "outputs": [],
   "source": [
    "y = y.reshape(len(y),1)"
   ]
  },
  {
   "cell_type": "code",
   "execution_count": 4,
   "id": "27ea25fd",
   "metadata": {},
   "outputs": [
    {
     "data": {
      "text/html": [
       "<div>\n",
       "<style scoped>\n",
       "    .dataframe tbody tr th:only-of-type {\n",
       "        vertical-align: middle;\n",
       "    }\n",
       "\n",
       "    .dataframe tbody tr th {\n",
       "        vertical-align: top;\n",
       "    }\n",
       "\n",
       "    .dataframe thead th {\n",
       "        text-align: right;\n",
       "    }\n",
       "</style>\n",
       "<table border=\"1\" class=\"dataframe\">\n",
       "  <thead>\n",
       "    <tr style=\"text-align: right;\">\n",
       "      <th></th>\n",
       "      <th>Player</th>\n",
       "      <th>Inns</th>\n",
       "      <th>NO</th>\n",
       "      <th>Runs</th>\n",
       "      <th>Avg</th>\n",
       "      <th>BF</th>\n",
       "      <th>SR</th>\n",
       "      <th>Price</th>\n",
       "    </tr>\n",
       "  </thead>\n",
       "  <tbody>\n",
       "    <tr>\n",
       "      <th>0</th>\n",
       "      <td>Gautam Gambhir</td>\n",
       "      <td>10.5</td>\n",
       "      <td>2.0</td>\n",
       "      <td>291.5</td>\n",
       "      <td>29.250</td>\n",
       "      <td>238.5</td>\n",
       "      <td>112.305</td>\n",
       "      <td>0</td>\n",
       "    </tr>\n",
       "    <tr>\n",
       "      <th>1</th>\n",
       "      <td>Shikhar Dhawan</td>\n",
       "      <td>15.0</td>\n",
       "      <td>2.0</td>\n",
       "      <td>488.0</td>\n",
       "      <td>37.535</td>\n",
       "      <td>369.5</td>\n",
       "      <td>132.150</td>\n",
       "      <td>520</td>\n",
       "    </tr>\n",
       "    <tr>\n",
       "      <th>2</th>\n",
       "      <td>Suresh Raina</td>\n",
       "      <td>14.5</td>\n",
       "      <td>3.0</td>\n",
       "      <td>443.5</td>\n",
       "      <td>38.630</td>\n",
       "      <td>321.5</td>\n",
       "      <td>138.205</td>\n",
       "      <td>1100</td>\n",
       "    </tr>\n",
       "    <tr>\n",
       "      <th>3</th>\n",
       "      <td>Manish Pandey</td>\n",
       "      <td>13.0</td>\n",
       "      <td>3.5</td>\n",
       "      <td>340.0</td>\n",
       "      <td>37.655</td>\n",
       "      <td>277.0</td>\n",
       "      <td>122.005</td>\n",
       "      <td>1100</td>\n",
       "    </tr>\n",
       "    <tr>\n",
       "      <th>4</th>\n",
       "      <td>Parthiv Patel</td>\n",
       "      <td>11.0</td>\n",
       "      <td>0.5</td>\n",
       "      <td>274.0</td>\n",
       "      <td>27.640</td>\n",
       "      <td>201.0</td>\n",
       "      <td>137.585</td>\n",
       "      <td>170</td>\n",
       "    </tr>\n",
       "  </tbody>\n",
       "</table>\n",
       "</div>"
      ],
      "text/plain": [
       "           Player  Inns   NO   Runs     Avg     BF       SR  Price\n",
       "0  Gautam Gambhir  10.5  2.0  291.5  29.250  238.5  112.305      0\n",
       "1  Shikhar Dhawan  15.0  2.0  488.0  37.535  369.5  132.150    520\n",
       "2    Suresh Raina  14.5  3.0  443.5  38.630  321.5  138.205   1100\n",
       "3   Manish Pandey  13.0  3.5  340.0  37.655  277.0  122.005   1100\n",
       "4   Parthiv Patel  11.0  0.5  274.0  27.640  201.0  137.585    170"
      ]
     },
     "execution_count": 4,
     "metadata": {},
     "output_type": "execute_result"
    }
   ],
   "source": [
    "dataset.head(5)"
   ]
  },
  {
   "cell_type": "code",
   "execution_count": 5,
   "id": "75009716",
   "metadata": {},
   "outputs": [],
   "source": [
    "from sklearn.impute import SimpleImputer\n",
    "imputer = SimpleImputer(missing_values=np.nan, strategy='mean')\n",
    "imputer.fit(X[:, :])\n",
    "X[:, :] = imputer.transform(X[:, :])"
   ]
  },
  {
   "cell_type": "code",
   "execution_count": 6,
   "id": "58c7e439",
   "metadata": {},
   "outputs": [],
   "source": [
    "from sklearn.model_selection import train_test_split\n",
    "X_train, X_test, y_train, y_test = train_test_split(X, y, test_size = 0.2, random_state = 0)"
   ]
  },
  {
   "cell_type": "code",
   "execution_count": 7,
   "id": "7ca7740b",
   "metadata": {},
   "outputs": [
    {
     "data": {
      "text/plain": [
       "array([[1.05000e+01, 5.00000e-01, 3.08500e+02, 2.70350e+01, 2.36000e+02,\n",
       "        1.26320e+02],\n",
       "       [7.00000e+00, 1.00000e+00, 1.45500e+02, 1.11250e+01, 1.04000e+02,\n",
       "        1.26315e+02],\n",
       "       [7.00000e+00, 0.00000e+00, 1.23000e+02, 1.82500e+01, 9.10000e+01,\n",
       "        1.35575e+02],\n",
       "       [1.10000e+01, 0.00000e+00, 2.76000e+02, 2.53050e+01, 1.95000e+02,\n",
       "        1.41955e+02],\n",
       "       [1.45000e+01, 0.00000e+00, 3.69500e+02, 2.58850e+01, 2.50000e+02,\n",
       "        1.48775e+02],\n",
       "       [7.00000e+00, 2.00000e+00, 7.95000e+01, 1.29700e+01, 7.25000e+01,\n",
       "        9.63550e+01],\n",
       "       [3.50000e+00, 1.00000e+00, 7.85000e+01, 3.23300e+01, 7.20000e+01,\n",
       "        1.09685e+02],\n",
       "       [5.00000e+00, 1.50000e+00, 3.50000e+01, 8.65000e+00, 2.00000e+01,\n",
       "        1.56270e+02],\n",
       "       [2.00000e+00, 0.00000e+00, 7.50000e+00, 3.83000e+00, 1.25000e+01,\n",
       "        5.91250e+01],\n",
       "       [3.50000e+00, 5.00000e-01, 8.50000e+01, 2.02000e+01, 6.80000e+01,\n",
       "        1.19930e+02],\n",
       "       [2.00000e+00, 5.00000e-01, 1.00000e+00, 5.00000e-01, 4.00000e+00,\n",
       "        2.50000e+01],\n",
       "       [4.00000e+00, 1.50000e+00, 1.45000e+01, 4.37500e+00, 2.00000e+01,\n",
       "        5.63700e+01],\n",
       "       [1.30000e+01, 3.50000e+00, 3.40000e+02, 3.76550e+01, 2.77000e+02,\n",
       "        1.22005e+02],\n",
       "       [5.00000e+00, 1.50000e+00, 5.80000e+01, 1.52050e+01, 5.00000e+01,\n",
       "        1.00545e+02],\n",
       "       [4.50000e+00, 2.50000e+00, 2.55000e+01, 6.12500e+00, 2.15000e+01,\n",
       "        8.44700e+01],\n",
       "       [1.20000e+01, 2.00000e+00, 4.95500e+02, 4.75800e+01, 3.42500e+02,\n",
       "        1.46955e+02],\n",
       "       [1.25000e+01, 1.50000e+00, 2.39500e+02, 2.25400e+01, 1.49500e+02,\n",
       "        1.57005e+02],\n",
       "       [4.00000e+00, 1.00000e+00, 8.95000e+01, 2.97500e+01, 6.70000e+01,\n",
       "        1.37575e+02],\n",
       "       [5.50000e+00, 1.50000e+00, 4.25000e+01, 1.59150e+01, 3.40000e+01,\n",
       "        1.30435e+02],\n",
       "       [3.00000e+00, 1.50000e+00, 8.50000e+00, 5.25000e+00, 1.00000e+01,\n",
       "        9.06250e+01],\n",
       "       [2.50000e+00, 1.00000e+00, 1.60000e+01, 1.10000e+01, 2.30000e+01,\n",
       "        7.04500e+01],\n",
       "       [5.50000e+00, 2.50000e+00, 3.15000e+01, 1.00000e+01, 3.30000e+01,\n",
       "        9.36700e+01],\n",
       "       [1.20000e+01, 3.50000e+00, 2.01500e+02, 2.33750e+01, 1.57500e+02,\n",
       "        1.27170e+02],\n",
       "       [1.10000e+01, 5.00000e-01, 2.74000e+02, 2.76400e+01, 2.01000e+02,\n",
       "        1.37585e+02],\n",
       "       [8.50000e+00, 2.00000e+00, 1.85500e+02, 2.40300e+01, 1.40000e+02,\n",
       "        1.22045e+02],\n",
       "       [1.20000e+01, 1.00000e+00, 2.56000e+02, 2.39650e+01, 1.91000e+02,\n",
       "        1.32355e+02],\n",
       "       [6.00000e+00, 1.00000e+00, 7.35000e+01, 9.75000e+00, 5.80000e+01,\n",
       "        9.48600e+01],\n",
       "       [1.00000e+01, 5.50000e+00, 1.23500e+02, 2.86500e+01, 9.35000e+01,\n",
       "        1.30045e+02],\n",
       "       [1.30000e+01, 1.50000e+00, 3.08500e+02, 2.65150e+01, 2.17000e+02,\n",
       "        1.40880e+02],\n",
       "       [1.50000e+00, 0.00000e+00, 1.00000e+01, 5.50000e+00, 7.50000e+00,\n",
       "        1.08330e+02],\n",
       "       [1.10000e+01, 1.00000e+00, 3.13000e+02, 2.57350e+01, 2.18500e+02,\n",
       "        1.22805e+02],\n",
       "       [1.05000e+01, 2.00000e+00, 2.91500e+02, 2.92500e+01, 2.38500e+02,\n",
       "        1.12305e+02],\n",
       "       [1.50000e+01, 5.00000e-01, 2.90500e+02, 1.97700e+01, 1.59000e+02,\n",
       "        1.81095e+02],\n",
       "       [8.50000e+00, 1.00000e+00, 1.58500e+02, 1.94150e+01, 1.25000e+02,\n",
       "        1.15705e+02],\n",
       "       [6.00000e+00, 2.50000e+00, 5.25000e+01, 1.44000e+01, 4.10000e+01,\n",
       "        1.20000e+02],\n",
       "       [1.45000e+01, 4.50000e+00, 4.29500e+02, 4.29500e+01, 2.98000e+02,\n",
       "        1.43575e+02],\n",
       "       [1.00000e+01, 1.50000e+00, 3.48000e+02, 4.01650e+01, 2.19000e+02,\n",
       "        1.53525e+02],\n",
       "       [1.25000e+01, 0.00000e+00, 2.91000e+02, 2.33450e+01, 2.23500e+02,\n",
       "        1.30260e+02],\n",
       "       [6.00000e+00, 1.00000e+00, 6.10000e+01, 1.22000e+01, 5.75000e+01,\n",
       "        1.07725e+02],\n",
       "       [1.40000e+01, 5.00000e-01, 5.25000e+02, 3.93750e+01, 3.07500e+02,\n",
       "        1.69605e+02],\n",
       "       [1.05000e+01, 1.50000e+00, 1.78000e+02, 1.93250e+01, 1.44500e+02,\n",
       "        1.22365e+02],\n",
       "       [2.50000e+00, 5.00000e-01, 3.20000e+01, 1.53300e+01, 1.75000e+01,\n",
       "        2.02870e+02],\n",
       "       [5.50000e+00, 2.00000e+00, 3.05000e+01, 9.25000e+00, 3.15000e+01,\n",
       "        8.94600e+01],\n",
       "       [4.50000e+00, 2.50000e+00, 6.50000e+00, 3.75000e-01, 1.20000e+01,\n",
       "        5.20950e+01],\n",
       "       [1.50000e+01, 2.00000e+00, 4.88000e+02, 3.75350e+01, 3.69500e+02,\n",
       "        1.32150e+02],\n",
       "       [6.50000e+00, 0.00000e+00, 1.42000e+02, 1.95950e+01, 1.03000e+02,\n",
       "        1.30520e+02],\n",
       "       [1.00000e+00, 5.00000e-01, 2.50000e+00, 0.00000e+00, 5.00000e+00,\n",
       "        3.12500e+01],\n",
       "       [1.35000e+01, 1.50000e+00, 3.18500e+02, 2.68250e+01, 2.48000e+02,\n",
       "        1.28580e+02],\n",
       "       [5.00000e+00, 2.50000e+00, 2.25000e+01, 8.83000e+00, 2.60000e+01,\n",
       "        9.02750e+01],\n",
       "       [1.20000e+01, 1.50000e+00, 4.19000e+02, 3.94900e+01, 3.16500e+02,\n",
       "        1.30660e+02],\n",
       "       [1.45000e+01, 6.50000e+00, 2.55000e+02, 3.22950e+01, 1.77500e+02,\n",
       "        1.44790e+02],\n",
       "       [3.00000e+00, 5.00000e-01, 4.00000e+01, 1.03750e+01, 3.45000e+01,\n",
       "        7.32650e+01],\n",
       "       [2.50000e+00, 1.00000e+00, 1.50000e+00, 5.00000e-01, 8.00000e+00,\n",
       "        1.07100e+01],\n",
       "       [1.00000e+00, 0.00000e+00, 4.50000e+00, 4.50000e+00, 7.00000e+00,\n",
       "        3.46150e+01],\n",
       "       [2.50000e+00, 1.50000e+00, 1.30000e+01, 1.30000e+01, 1.15000e+01,\n",
       "        1.12115e+02],\n",
       "       [1.10000e+01, 1.00000e+00, 2.16500e+02, 2.08300e+01, 1.40000e+02,\n",
       "        1.50055e+02],\n",
       "       [1.50000e+00, 5.00000e-01, 3.50000e+00, 3.50000e+00, 4.50000e+00,\n",
       "        6.78550e+01],\n",
       "       [3.50000e+00, 2.00000e+00, 6.50000e+00, 2.16500e+00, 1.50000e+01,\n",
       "        2.50000e+01],\n",
       "       [1.15000e+01, 1.50000e+00, 4.10000e+02, 4.10000e+01, 2.65000e+02,\n",
       "        1.54455e+02],\n",
       "       [1.15000e+01, 1.50000e+00, 2.20000e+02, 2.20000e+01, 1.81500e+02,\n",
       "        1.20845e+02],\n",
       "       [7.50000e+00, 4.50000e+00, 1.56500e+02, 5.17500e+01, 1.11500e+02,\n",
       "        1.38950e+02],\n",
       "       [6.50000e+00, 3.50000e+00, 1.00000e+02, 3.84000e+01, 6.00000e+01,\n",
       "        1.70370e+02],\n",
       "       [3.50000e+00, 1.50000e+00, 3.45000e+01, 1.78300e+01, 2.70000e+01,\n",
       "        1.44495e+02],\n",
       "       [3.50000e+00, 3.00000e+00, 2.50000e+01, 2.45000e+01, 2.70000e+01,\n",
       "        7.21150e+01],\n",
       "       [1.30000e+01, 2.50000e+00, 3.74500e+02, 3.55800e+01, 2.76500e+02,\n",
       "        1.35835e+02],\n",
       "       [1.00000e+00, 5.00000e-01, 9.00000e+00, 7.50000e+00, 8.00000e+00,\n",
       "        1.00000e+02],\n",
       "       [1.00000e+01, 1.00000e+00, 2.84000e+02, 3.15500e+01, 2.07500e+02,\n",
       "        1.34360e+02],\n",
       "       [1.15000e+01, 1.00000e+00, 3.93000e+02, 4.09450e+01, 2.70000e+02,\n",
       "        1.55605e+02],\n",
       "       [2.50000e+00, 1.00000e+00, 4.00000e+00, 3.30000e-01, 8.50000e+00,\n",
       "        4.86100e+01],\n",
       "       [1.50000e+01, 1.00000e+00, 3.76000e+02, 2.69600e+01, 3.18000e+02,\n",
       "        1.18235e+02],\n",
       "       [2.00000e+00, 5.00000e-01, 7.50000e+00, 0.00000e+00, 4.00000e+00,\n",
       "        1.50000e+02],\n",
       "       [6.00000e+00, 3.00000e+00, 1.35000e+01, 4.75000e+00, 1.25000e+01,\n",
       "        1.08330e+02],\n",
       "       [2.50000e+00, 2.50000e+00, 1.80000e+01, 0.00000e+00, 1.40000e+01,\n",
       "        1.31545e+02],\n",
       "       [1.05000e+01, 1.00000e+00, 3.46500e+02, 3.06000e+01, 2.40000e+02,\n",
       "        1.33205e+02],\n",
       "       [8.50000e+00, 2.00000e+00, 1.28500e+02, 2.09750e+01, 8.80000e+01,\n",
       "        1.46450e+02]])"
      ]
     },
     "execution_count": 7,
     "metadata": {},
     "output_type": "execute_result"
    }
   ],
   "source": [
    "X_train"
   ]
  },
  {
   "cell_type": "code",
   "execution_count": 8,
   "id": "7f57dace",
   "metadata": {},
   "outputs": [
    {
     "data": {
      "text/plain": [
       "array([[ 320],\n",
       "       [ 780],\n",
       "       [ 100],\n",
       "       [ 620],\n",
       "       [ 640],\n",
       "       [   0],\n",
       "       [ 300],\n",
       "       [ 900],\n",
       "       [ 300],\n",
       "       [ 160],\n",
       "       [   0],\n",
       "       [ 420],\n",
       "       [1100],\n",
       "       [ 620],\n",
       "       [ 840],\n",
       "       [ 300],\n",
       "       [   0],\n",
       "       [   0],\n",
       "       [ 720],\n",
       "       [ 850],\n",
       "       [ 580],\n",
       "       [   0],\n",
       "       [ 190],\n",
       "       [ 170],\n",
       "       [   0],\n",
       "       [1250],\n",
       "       [ 100],\n",
       "       [ 700],\n",
       "       [ 340],\n",
       "       [ 100],\n",
       "       [ 400],\n",
       "       [   0],\n",
       "       [ 850],\n",
       "       [ 100],\n",
       "       [   0],\n",
       "       [ 740],\n",
       "       [1100],\n",
       "       [ 560],\n",
       "       [  50],\n",
       "       [ 800],\n",
       "       [ 120],\n",
       "       [  80],\n",
       "       [ 500],\n",
       "       [ 420],\n",
       "       [ 520],\n",
       "       [  20],\n",
       "       [ 220],\n",
       "       [ 340],\n",
       "       [ 200],\n",
       "       [1700],\n",
       "       [1100],\n",
       "       [   0],\n",
       "       [ 380],\n",
       "       [ 360],\n",
       "       [ 700],\n",
       "       [   0],\n",
       "       [  75],\n",
       "       [ 600],\n",
       "       [ 440],\n",
       "       [ 140],\n",
       "       [ 320],\n",
       "       [ 710],\n",
       "       [ 300],\n",
       "       [ 400],\n",
       "       [ 700],\n",
       "       [   0],\n",
       "       [ 200],\n",
       "       [ 960],\n",
       "       [ 320],\n",
       "       [ 400],\n",
       "       [ 260],\n",
       "       [ 100],\n",
       "       [   0],\n",
       "       [ 220],\n",
       "       [ 220]], dtype=int64)"
      ]
     },
     "execution_count": 8,
     "metadata": {},
     "output_type": "execute_result"
    }
   ],
   "source": [
    "y_train"
   ]
  },
  {
   "cell_type": "code",
   "execution_count": 9,
   "id": "20aa689e",
   "metadata": {},
   "outputs": [],
   "source": [
    "from sklearn.preprocessing import StandardScaler\n",
    "sc_X = StandardScaler()\n",
    "sc_y = StandardScaler()\n",
    "X_train = sc_X.fit_transform(X_train)\n",
    "y_train = sc_y.fit_transform(y_train)"
   ]
  },
  {
   "cell_type": "code",
   "execution_count": 10,
   "id": "2a7d862c",
   "metadata": {},
   "outputs": [
    {
     "name": "stderr",
     "output_type": "stream",
     "text": [
      "c:\\users\\yash karnik\\appdata\\local\\programs\\python\\python39\\lib\\site-packages\\sklearn\\utils\\validation.py:985: DataConversionWarning: A column-vector y was passed when a 1d array was expected. Please change the shape of y to (n_samples, ), for example using ravel().\n",
      "  y = column_or_1d(y, warn=True)\n"
     ]
    },
    {
     "data": {
      "text/plain": [
       "SVR()"
      ]
     },
     "execution_count": 10,
     "metadata": {},
     "output_type": "execute_result"
    }
   ],
   "source": [
    "from sklearn.svm import SVR\n",
    "regressor = SVR(kernel = 'rbf')\n",
    "regressor.fit(X_train, y_train)"
   ]
  },
  {
   "cell_type": "code",
   "execution_count": 11,
   "id": "57da654c",
   "metadata": {},
   "outputs": [],
   "source": [
    "y_pred=regressor.predict(sc_X.transform(X_test))\n",
    "y_pred=y_pred.reshape(len(y_pred),1)\n",
    "y_pred=sc_y.inverse_transform(y_pred)"
   ]
  },
  {
   "cell_type": "code",
   "execution_count": 12,
   "id": "7a0e6d5e",
   "metadata": {},
   "outputs": [
    {
     "data": {
      "text/plain": [
       "19"
      ]
     },
     "execution_count": 12,
     "metadata": {},
     "output_type": "execute_result"
    }
   ],
   "source": [
    "len(y_pred)"
   ]
  },
  {
   "cell_type": "code",
   "execution_count": 13,
   "id": "de8391fd",
   "metadata": {},
   "outputs": [
    {
     "data": {
      "text/plain": [
       "19"
      ]
     },
     "execution_count": 13,
     "metadata": {},
     "output_type": "execute_result"
    }
   ],
   "source": [
    "len(y_test)"
   ]
  },
  {
   "cell_type": "code",
   "execution_count": 14,
   "id": "97113539",
   "metadata": {},
   "outputs": [
    {
     "name": "stdout",
     "output_type": "stream",
     "text": [
      "Mean squared error: 158800.06\n",
      "Coefficient of determination: -0.04\n"
     ]
    }
   ],
   "source": [
    "from sklearn.metrics import mean_squared_error,r2_score\n",
    "# The mean squared error\n",
    "print('Mean squared error: %.2f'% mean_squared_error(y_test,y_pred))\n",
    "print('Coefficient of determination: %.2f'% r2_score(y_test, y_pred))\n",
    "# The coefficient of determination: 1 is perfect prediction\n",
    "# print('Coefficient of determination: %.2f'% r2_score(y_test.reshape(len(y_test)), y_pred.reshape(len(y_pred))))"
   ]
  }
 ],
 "metadata": {
  "kernelspec": {
   "display_name": "Python 3 (ipykernel)",
   "language": "python",
   "name": "python3"
  },
  "language_info": {
   "codemirror_mode": {
    "name": "ipython",
    "version": 3
   },
   "file_extension": ".py",
   "mimetype": "text/x-python",
   "name": "python",
   "nbconvert_exporter": "python",
   "pygments_lexer": "ipython3",
   "version": "3.9.6"
  }
 },
 "nbformat": 4,
 "nbformat_minor": 5
}
