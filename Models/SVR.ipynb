{
 "cells": [
  {
   "cell_type": "code",
   "execution_count": 39,
   "id": "46c68821",
   "metadata": {},
   "outputs": [],
   "source": [
    "import numpy as np\n",
    "import pandas as pd"
   ]
  },
  {
   "cell_type": "code",
   "execution_count": 40,
   "id": "26e3494f",
   "metadata": {},
   "outputs": [],
   "source": [
    "dataset=pd.read_excel('../final_dataset_2019_v2.xlsx','Bowlers')\n",
    "X = dataset.iloc[:, 1:-1].values\n",
    "y = dataset.iloc[:, -1].values"
   ]
  },
  {
   "cell_type": "code",
   "execution_count": 41,
   "id": "b055dbdc",
   "metadata": {},
   "outputs": [],
   "source": [
    "y = y.reshape(len(y),1)"
   ]
  },
  {
   "cell_type": "code",
   "execution_count": 42,
   "id": "27ea25fd",
   "metadata": {},
   "outputs": [
    {
     "data": {
      "text/html": [
       "<div>\n",
       "<style scoped>\n",
       "    .dataframe tbody tr th:only-of-type {\n",
       "        vertical-align: middle;\n",
       "    }\n",
       "\n",
       "    .dataframe tbody tr th {\n",
       "        vertical-align: top;\n",
       "    }\n",
       "\n",
       "    .dataframe thead th {\n",
       "        text-align: right;\n",
       "    }\n",
       "</style>\n",
       "<table border=\"1\" class=\"dataframe\">\n",
       "  <thead>\n",
       "    <tr style=\"text-align: right;\">\n",
       "      <th></th>\n",
       "      <th>Player</th>\n",
       "      <th>Ov</th>\n",
       "      <th>Wkts</th>\n",
       "      <th>Avg</th>\n",
       "      <th>Econ</th>\n",
       "      <th>SR</th>\n",
       "      <th>Price</th>\n",
       "    </tr>\n",
       "  </thead>\n",
       "  <tbody>\n",
       "    <tr>\n",
       "      <th>0</th>\n",
       "      <td>Kagiso Rabada</td>\n",
       "      <td>47.0</td>\n",
       "      <td>25</td>\n",
       "      <td>14.72</td>\n",
       "      <td>7.82</td>\n",
       "      <td>11.28</td>\n",
       "      <td>420</td>\n",
       "    </tr>\n",
       "    <tr>\n",
       "      <th>1</th>\n",
       "      <td>Deepak Chahar</td>\n",
       "      <td>64.3</td>\n",
       "      <td>22</td>\n",
       "      <td>21.90</td>\n",
       "      <td>7.47</td>\n",
       "      <td>17.59</td>\n",
       "      <td>80</td>\n",
       "    </tr>\n",
       "    <tr>\n",
       "      <th>2</th>\n",
       "      <td>Shreyas Gopal</td>\n",
       "      <td>48.0</td>\n",
       "      <td>20</td>\n",
       "      <td>17.35</td>\n",
       "      <td>7.22</td>\n",
       "      <td>14.40</td>\n",
       "      <td>20</td>\n",
       "    </tr>\n",
       "    <tr>\n",
       "      <th>3</th>\n",
       "      <td>Jasprit Bumrah</td>\n",
       "      <td>61.4</td>\n",
       "      <td>19</td>\n",
       "      <td>21.52</td>\n",
       "      <td>6.63</td>\n",
       "      <td>19.47</td>\n",
       "      <td>700</td>\n",
       "    </tr>\n",
       "    <tr>\n",
       "      <th>4</th>\n",
       "      <td>Khaleel Ahmed</td>\n",
       "      <td>34.5</td>\n",
       "      <td>19</td>\n",
       "      <td>15.10</td>\n",
       "      <td>8.23</td>\n",
       "      <td>11.00</td>\n",
       "      <td>300</td>\n",
       "    </tr>\n",
       "  </tbody>\n",
       "</table>\n",
       "</div>"
      ],
      "text/plain": [
       "           Player    Ov  Wkts    Avg  Econ     SR  Price\n",
       "0   Kagiso Rabada  47.0    25  14.72  7.82  11.28    420\n",
       "1   Deepak Chahar  64.3    22  21.90  7.47  17.59     80\n",
       "2   Shreyas Gopal  48.0    20  17.35  7.22  14.40     20\n",
       "3  Jasprit Bumrah  61.4    19  21.52  6.63  19.47    700\n",
       "4   Khaleel Ahmed  34.5    19  15.10  8.23  11.00    300"
      ]
     },
     "execution_count": 42,
     "metadata": {},
     "output_type": "execute_result"
    }
   ],
   "source": [
    "dataset.head(5)"
   ]
  },
  {
   "cell_type": "code",
   "execution_count": 43,
   "id": "75009716",
   "metadata": {},
   "outputs": [],
   "source": [
    "from sklearn.impute import SimpleImputer\n",
    "imputer = SimpleImputer(missing_values=np.nan, strategy='mean')\n",
    "imputer.fit(X[:, :])\n",
    "X[:, :] = imputer.transform(X[:, :])"
   ]
  },
  {
   "cell_type": "code",
   "execution_count": 44,
   "id": "58c7e439",
   "metadata": {},
   "outputs": [],
   "source": [
    "from sklearn.model_selection import train_test_split\n",
    "X_train, X_test, y_train, y_test = train_test_split(X, y, test_size = 0.2, random_state = 0)"
   ]
  },
  {
   "cell_type": "code",
   "execution_count": 45,
   "id": "7ca7740b",
   "metadata": {},
   "outputs": [
    {
     "data": {
      "text/plain": [
       "array([[  8.  ,   1.  ,  70.  ,   8.75,  48.  ],\n",
       "       [ 61.4 ,  19.  ,  21.52,   6.63,  19.47],\n",
       "       [ 20.  ,   1.  , 166.  ,   8.3 , 120.  ],\n",
       "       [  2.  ,   1.  ,  27.  ,  13.5 ,  12.  ],\n",
       "       [  6.5 ,   1.  ,  59.  ,   8.63,  41.  ],\n",
       "       [ 49.2 ,  18.  ,  21.44,   7.82,  16.44],\n",
       "       [ 19.  ,   5.  ,  33.  ,   8.68,  22.8 ],\n",
       "       [  4.  ,   0.  ,   0.  ,  12.75,   0.  ],\n",
       "       [  6.  ,   1.  ,  59.  ,   9.83,  36.  ],\n",
       "       [ 12.  ,   2.  ,  42.5 ,   7.08,  36.  ],\n",
       "       [  2.5 ,   1.  ,  33.  ,  11.64,  17.  ],\n",
       "       [  1.  ,   0.  ,   0.  ,   9.  ,   0.  ],\n",
       "       [  3.  ,   0.  ,   0.  ,   9.66,   0.  ],\n",
       "       [  4.  ,   2.  ,  14.  ,   7.  ,  12.  ],\n",
       "       [ 33.  ,  10.  ,  32.3 ,   9.78,  19.8 ],\n",
       "       [ 42.4 ,  12.  ,  29.33,   8.25,  21.33],\n",
       "       [ 12.  ,   0.  ,   0.  ,   9.16,   0.  ],\n",
       "       [ 10.  ,   3.  ,  36.33,  10.9 ,  20.  ],\n",
       "       [  9.  ,   1.  , 118.  ,  13.11,  54.  ],\n",
       "       [  0.2 ,   0.  ,   0.  ,  18.  ,   0.  ],\n",
       "       [ 64.3 ,  22.  ,  21.9 ,   7.47,  17.59],\n",
       "       [ 14.  ,   2.  ,  60.5 ,   8.64,  42.  ],\n",
       "       [ 34.  ,   5.  ,  51.  ,   7.5 ,  40.8 ],\n",
       "       [ 16.5 ,   6.  ,  31.5 ,  11.22,  16.83],\n",
       "       [ 34.5 ,  19.  ,  15.1 ,   8.23,  11.  ],\n",
       "       [ 59.  ,  13.  ,  35.46,   7.81,  27.23],\n",
       "       [ 46.  ,  12.  ,  27.91,   7.28,  23.  ],\n",
       "       [  8.4 ,   6.  ,  14.5 ,  10.03,   8.66],\n",
       "       [ 27.  ,   6.  ,  40.33,   8.96,  27.  ],\n",
       "       [ 54.  ,  19.  ,  24.68,   8.68,  17.05],\n",
       "       [  4.  ,   0.  ,   0.  ,  10.5 ,   0.  ],\n",
       "       [ 18.  ,   3.  ,  47.33,   7.88,  36.  ],\n",
       "       [ 47.  ,  25.  ,  14.72,   7.82,  11.28],\n",
       "       [ 27.  ,   7.  ,  34.  ,   8.81,  23.14],\n",
       "       [ 37.2 ,  10.  ,  39.8 ,  10.66,  22.4 ],\n",
       "       [ 11.1 ,   3.  ,  34.  ,   9.13,  22.33],\n",
       "       [ 40.2 ,   4.  ,  94.25,   9.34,  60.5 ],\n",
       "       [ 55.  ,  15.  ,  26.66,   7.27,  22.  ],\n",
       "       [ 28.1 ,   7.  ,  38.42,   9.55,  24.14],\n",
       "       [ 30.1 ,  11.  ,  26.09,   9.51,  16.45],\n",
       "       [ 12.  ,   4.  ,  29.  ,   9.66,  18.  ],\n",
       "       [ 54.  ,  15.  ,  22.86,   6.35,  21.6 ],\n",
       "       [ 23.  ,   8.  ,  26.25,   9.13,  17.25],\n",
       "       [  9.  ,   2.  ,  45.  ,  10.  ,  27.  ],\n",
       "       [ 19.  ,   3.  ,  63.66,  10.05,  38.  ],\n",
       "       [  2.  ,   1.  ,  21.  ,  10.5 ,  12.  ],\n",
       "       [  3.  ,   0.  ,   0.  ,  10.  ,   0.  ],\n",
       "       [ 30.  ,   8.  ,  35.12,   9.36,  22.5 ],\n",
       "       [  1.4 ,   0.  ,   0.  ,   4.8 ,   0.  ],\n",
       "       [ 46.  ,  13.  ,  26.84,   7.58,  21.23],\n",
       "       [  2.  ,   1.  ,  21.  ,  10.5 ,  12.  ],\n",
       "       [ 40.  ,  11.  ,  24.54,   6.75,  21.81],\n",
       "       [ 27.1 ,   9.  ,  26.33,   8.72,  18.11],\n",
       "       [ 33.  ,   4.  ,  71.5 ,   8.66,  49.5 ],\n",
       "       [  4.  ,   0.  ,   0.  ,  14.  ,   0.  ],\n",
       "       [  2.  ,   0.  ,   0.  ,  17.  ,   0.  ],\n",
       "       [ 17.  ,   2.  ,  91.5 ,  10.76,  51.  ],\n",
       "       [ 43.  ,  11.  ,  26.45,   6.76,  23.45],\n",
       "       [  1.  ,   0.  ,   0.  ,  13.  ,   0.  ],\n",
       "       [  7.  ,   1.  ,  50.  ,   7.14,  42.  ],\n",
       "       [  5.  ,   1.  ,  47.  ,   9.4 ,  30.  ],\n",
       "       [ 44.2 ,  10.  ,  34.7 ,   7.82,  26.6 ],\n",
       "       [ 25.  ,   6.  ,  28.16,   6.76,  25.  ],\n",
       "       [  5.  ,   1.  ,  57.  ,  11.4 ,  30.  ],\n",
       "       [ 14.  ,   4.  ,  23.5 ,   6.71,  21.  ],\n",
       "       [ 35.  ,   6.  ,  55.83,   9.57,  35.  ],\n",
       "       [ 10.5 ,   2.  ,  47.5 ,   8.76,  32.5 ],\n",
       "       [ 22.  ,   3.  ,  77.66,  10.59,  44.  ],\n",
       "       [ 42.3 ,  14.  ,  27.85,   9.17,  18.21],\n",
       "       [  5.  ,   0.  ,   0.  ,   9.6 ,   0.  ],\n",
       "       [  1.  ,   0.  ,   0.  ,   8.  ,   0.  ],\n",
       "       [  2.  ,   1.  ,  11.  ,   5.5 ,  12.  ],\n",
       "       [  1.  ,   0.  ,   0.  ,   6.  ,   0.  ],\n",
       "       [ 23.  ,   7.  ,  31.71,   9.65,  19.71],\n",
       "       [ 41.1 ,  11.  ,  30.  ,   8.01,  22.45],\n",
       "       [  3.  ,   1.  ,  35.  ,  11.66,  18.  ],\n",
       "       [ 44.5 ,  16.  ,  27.37,   9.76,  16.81],\n",
       "       [  2.  ,   0.  ,   0.  ,  13.5 ,   0.  ],\n",
       "       [  8.  ,   2.  ,  38.5 ,   9.62,  24.  ],\n",
       "       [ 16.4 ,   2.  ,  72.5 ,   8.7 ,  50.  ],\n",
       "       [  9.  ,   4.  ,  18.5 ,   8.22,  13.5 ],\n",
       "       [ 19.  ,   5.  ,  32.6 ,   8.57,  22.8 ]])"
      ]
     },
     "execution_count": 45,
     "metadata": {},
     "output_type": "execute_result"
    }
   ],
   "source": [
    "X_train"
   ]
  },
  {
   "cell_type": "code",
   "execution_count": 46,
   "id": "7f57dace",
   "metadata": {},
   "outputs": [
    {
     "data": {
      "text/plain": [
       "array([[ 320],\n",
       "       [ 700],\n",
       "       [ 620],\n",
       "       [ 220],\n",
       "       [   0],\n",
       "       [ 600],\n",
       "       [ 150],\n",
       "       [ 340],\n",
       "       [  20],\n",
       "       [   0],\n",
       "       [ 500],\n",
       "       [ 200],\n",
       "       [ 500],\n",
       "       [   0],\n",
       "       [ 720],\n",
       "       [ 300],\n",
       "       [  95],\n",
       "       [   0],\n",
       "       [ 100],\n",
       "       [  25],\n",
       "       [  80],\n",
       "       [   0],\n",
       "       [   0],\n",
       "       [1250],\n",
       "       [ 300],\n",
       "       [ 850],\n",
       "       [ 880],\n",
       "       [   0],\n",
       "       [ 380],\n",
       "       [ 480],\n",
       "       [   0],\n",
       "       [ 100],\n",
       "       [ 420],\n",
       "       [   0],\n",
       "       [ 840],\n",
       "       [ 100],\n",
       "       [  20],\n",
       "       [ 760],\n",
       "       [ 260],\n",
       "       [ 700],\n",
       "       [ 240],\n",
       "       [ 700],\n",
       "       [  20],\n",
       "       [ 320],\n",
       "       [ 400],\n",
       "       [ 360],\n",
       "       [  70],\n",
       "       [ 260],\n",
       "       [ 500],\n",
       "       [ 110],\n",
       "       [  55],\n",
       "       [ 400],\n",
       "       [   0],\n",
       "       [ 580],\n",
       "       [   0],\n",
       "       [   0],\n",
       "       [ 160],\n",
       "       [ 720],\n",
       "       [   0],\n",
       "       [   0],\n",
       "       [  85],\n",
       "       [ 850],\n",
       "       [ 170],\n",
       "       [   0],\n",
       "       [  50],\n",
       "       [  75],\n",
       "       [ 200],\n",
       "       [ 720],\n",
       "       [1100],\n",
       "       [   0],\n",
       "       [ 190],\n",
       "       [  20],\n",
       "       [1100],\n",
       "       [   0],\n",
       "       [ 640],\n",
       "       [   0],\n",
       "       [ 200],\n",
       "       [  20],\n",
       "       [  20],\n",
       "       [ 620],\n",
       "       [ 320],\n",
       "       [ 220]], dtype=int64)"
      ]
     },
     "execution_count": 46,
     "metadata": {},
     "output_type": "execute_result"
    }
   ],
   "source": [
    "y_train"
   ]
  },
  {
   "cell_type": "code",
   "execution_count": 47,
   "id": "20aa689e",
   "metadata": {},
   "outputs": [],
   "source": [
    "from sklearn.preprocessing import StandardScaler\n",
    "sc_X = StandardScaler()\n",
    "sc_y = StandardScaler()\n",
    "X_train = sc_X.fit_transform(X_train)\n",
    "y_train = sc_y.fit_transform(y_train)"
   ]
  },
  {
   "cell_type": "code",
   "execution_count": 48,
   "id": "2a7d862c",
   "metadata": {},
   "outputs": [
    {
     "name": "stderr",
     "output_type": "stream",
     "text": [
      "c:\\users\\yash karnik\\appdata\\local\\programs\\python\\python39\\lib\\site-packages\\sklearn\\utils\\validation.py:985: DataConversionWarning: A column-vector y was passed when a 1d array was expected. Please change the shape of y to (n_samples, ), for example using ravel().\n",
      "  y = column_or_1d(y, warn=True)\n"
     ]
    },
    {
     "data": {
      "text/plain": [
       "SVR()"
      ]
     },
     "execution_count": 48,
     "metadata": {},
     "output_type": "execute_result"
    }
   ],
   "source": [
    "from sklearn.svm import SVR\n",
    "regressor = SVR(kernel = 'rbf')\n",
    "regressor.fit(X_train, y_train)"
   ]
  },
  {
   "cell_type": "code",
   "execution_count": 49,
   "id": "57da654c",
   "metadata": {},
   "outputs": [],
   "source": [
    "y_pred=regressor.predict(sc_X.transform(X_test))\n",
    "y_pred=y_pred.reshape(len(y_pred),1)\n",
    "y_pred=sc_y.inverse_transform(y_pred)"
   ]
  },
  {
   "cell_type": "code",
   "execution_count": 50,
   "id": "7a0e6d5e",
   "metadata": {},
   "outputs": [
    {
     "data": {
      "text/plain": [
       "21"
      ]
     },
     "execution_count": 50,
     "metadata": {},
     "output_type": "execute_result"
    }
   ],
   "source": [
    "len(y_pred)"
   ]
  },
  {
   "cell_type": "code",
   "execution_count": 51,
   "id": "de8391fd",
   "metadata": {},
   "outputs": [
    {
     "data": {
      "text/plain": [
       "21"
      ]
     },
     "execution_count": 51,
     "metadata": {},
     "output_type": "execute_result"
    }
   ],
   "source": [
    "len(y_test)"
   ]
  },
  {
   "cell_type": "code",
   "execution_count": 52,
   "id": "97113539",
   "metadata": {},
   "outputs": [
    {
     "name": "stdout",
     "output_type": "stream",
     "text": [
      "Mean squared error: 66340.04\n",
      "Coefficient of determination: -0.17\n"
     ]
    }
   ],
   "source": [
    "from sklearn.metrics import mean_squared_error,r2_score\n",
    "# The mean squared error\n",
    "print('Mean squared error: %.2f'% mean_squared_error(y_test,y_pred))\n",
    "print('Coefficient of determination: %.2f'% r2_score(y_test, y_pred))\n",
    "# The coefficient of determination: 1 is perfect prediction\n",
    "# print('Coefficient of determination: %.2f'% r2_score(y_test.reshape(len(y_test)), y_pred.reshape(len(y_pred))))"
   ]
  }
 ],
 "metadata": {
  "kernelspec": {
   "display_name": "Python 3 (ipykernel)",
   "language": "python",
   "name": "python3"
  },
  "language_info": {
   "codemirror_mode": {
    "name": "ipython",
    "version": 3
   },
   "file_extension": ".py",
   "mimetype": "text/x-python",
   "name": "python",
   "nbconvert_exporter": "python",
   "pygments_lexer": "ipython3",
   "version": "3.9.6"
  }
 },
 "nbformat": 4,
 "nbformat_minor": 5
}
