{
 "cells": [
  {
   "cell_type": "code",
   "execution_count": 1,
   "id": "46c68821",
   "metadata": {},
   "outputs": [],
   "source": [
    "import numpy as np\n",
    "import pandas as pd"
   ]
  },
  {
   "cell_type": "code",
   "execution_count": 2,
   "id": "26e3494f",
   "metadata": {},
   "outputs": [],
   "source": [
    "dataset=pd.read_excel('final_dataset_2019_v2.xlsx','Batsmen')\n",
    "X = dataset.iloc[:, 1:-1].values\n",
    "y = dataset.iloc[:, -1].values"
   ]
  },
  {
   "cell_type": "code",
   "execution_count": 3,
   "id": "b055dbdc",
   "metadata": {},
   "outputs": [],
   "source": [
    "y = y.reshape(len(y),1)"
   ]
  },
  {
   "cell_type": "code",
   "execution_count": 4,
   "id": "27ea25fd",
   "metadata": {},
   "outputs": [
    {
     "data": {
      "text/html": [
       "<div>\n",
       "<style scoped>\n",
       "    .dataframe tbody tr th:only-of-type {\n",
       "        vertical-align: middle;\n",
       "    }\n",
       "\n",
       "    .dataframe tbody tr th {\n",
       "        vertical-align: top;\n",
       "    }\n",
       "\n",
       "    .dataframe thead th {\n",
       "        text-align: right;\n",
       "    }\n",
       "</style>\n",
       "<table border=\"1\" class=\"dataframe\">\n",
       "  <thead>\n",
       "    <tr style=\"text-align: right;\">\n",
       "      <th></th>\n",
       "      <th>Player</th>\n",
       "      <th>Inns</th>\n",
       "      <th>NO</th>\n",
       "      <th>Runs</th>\n",
       "      <th>Avg</th>\n",
       "      <th>BF</th>\n",
       "      <th>SR</th>\n",
       "      <th>Price</th>\n",
       "    </tr>\n",
       "  </thead>\n",
       "  <tbody>\n",
       "    <tr>\n",
       "      <th>0</th>\n",
       "      <td>David Warner</td>\n",
       "      <td>12</td>\n",
       "      <td>2</td>\n",
       "      <td>692</td>\n",
       "      <td>69.20</td>\n",
       "      <td>481</td>\n",
       "      <td>143.86</td>\n",
       "      <td>1200</td>\n",
       "    </tr>\n",
       "    <tr>\n",
       "      <th>1</th>\n",
       "      <td>KL Rahul</td>\n",
       "      <td>14</td>\n",
       "      <td>3</td>\n",
       "      <td>593</td>\n",
       "      <td>53.90</td>\n",
       "      <td>438</td>\n",
       "      <td>135.38</td>\n",
       "      <td>1100</td>\n",
       "    </tr>\n",
       "    <tr>\n",
       "      <th>2</th>\n",
       "      <td>Quinton de Kock</td>\n",
       "      <td>16</td>\n",
       "      <td>1</td>\n",
       "      <td>529</td>\n",
       "      <td>35.26</td>\n",
       "      <td>398</td>\n",
       "      <td>132.91</td>\n",
       "      <td>280</td>\n",
       "    </tr>\n",
       "    <tr>\n",
       "      <th>3</th>\n",
       "      <td>Shikhar Dhawan</td>\n",
       "      <td>16</td>\n",
       "      <td>1</td>\n",
       "      <td>521</td>\n",
       "      <td>34.73</td>\n",
       "      <td>384</td>\n",
       "      <td>135.67</td>\n",
       "      <td>520</td>\n",
       "    </tr>\n",
       "    <tr>\n",
       "      <th>4</th>\n",
       "      <td>Andre Russell</td>\n",
       "      <td>13</td>\n",
       "      <td>4</td>\n",
       "      <td>510</td>\n",
       "      <td>56.66</td>\n",
       "      <td>249</td>\n",
       "      <td>204.81</td>\n",
       "      <td>700</td>\n",
       "    </tr>\n",
       "  </tbody>\n",
       "</table>\n",
       "</div>"
      ],
      "text/plain": [
       "            Player  Inns  NO  Runs    Avg   BF      SR  Price\n",
       "0     David Warner    12   2   692  69.20  481  143.86   1200\n",
       "1         KL Rahul    14   3   593  53.90  438  135.38   1100\n",
       "2  Quinton de Kock    16   1   529  35.26  398  132.91    280\n",
       "3   Shikhar Dhawan    16   1   521  34.73  384  135.67    520\n",
       "4    Andre Russell    13   4   510  56.66  249  204.81    700"
      ]
     },
     "execution_count": 4,
     "metadata": {},
     "output_type": "execute_result"
    }
   ],
   "source": [
    "dataset.head(5)"
   ]
  },
  {
   "cell_type": "code",
   "execution_count": 5,
   "id": "75009716",
   "metadata": {},
   "outputs": [],
   "source": [
    "from sklearn.impute import SimpleImputer\n",
    "imputer = SimpleImputer(missing_values=np.nan, strategy='mean')\n",
    "imputer.fit(X[:, :])\n",
    "X[:, :] = imputer.transform(X[:, :])"
   ]
  },
  {
   "cell_type": "code",
   "execution_count": 6,
   "id": "58c7e439",
   "metadata": {},
   "outputs": [],
   "source": [
    "from sklearn.model_selection import train_test_split\n",
    "X_train, X_test, y_train, y_test = train_test_split(X, y, test_size = 0.2, random_state = 0)"
   ]
  },
  {
   "cell_type": "code",
   "execution_count": 7,
   "id": "7ca7740b",
   "metadata": {},
   "outputs": [
    {
     "data": {
      "text/plain": [
       "array([[ 13.  ,   1.  , 393.  ,  32.75, 285.  , 137.89],\n",
       "       [  6.  ,   1.  ,  42.  ,   8.4 ,  28.  , 150.  ],\n",
       "       [  8.  ,   0.  , 311.  ,  38.87, 205.  , 151.7 ],\n",
       "       [  1.  ,   0.  ,   0.  ,   0.  ,   4.  ,   0.  ],\n",
       "       [ 16.  ,   1.  , 529.  ,  35.26, 398.  , 132.91],\n",
       "       [  7.  ,   2.  ,  73.  ,  14.6 ,  54.  , 135.18],\n",
       "       [ 13.  ,   3.  , 442.  ,  44.2 , 287.  , 154.  ],\n",
       "       [  6.  ,   0.  ,  32.  ,   5.33,  37.  ,  86.48],\n",
       "       [  3.  ,   2.  ,   7.  ,   7.  ,   4.  , 175.  ],\n",
       "       [  5.  ,   0.  ,  86.  ,  17.2 ,  53.  , 162.26],\n",
       "       [  3.  ,   1.  ,   6.  ,   3.  ,  16.  ,  37.5 ],\n",
       "       [  4.  ,   1.  ,  71.  ,  23.66,  48.  , 147.91],\n",
       "       [  9.  ,   2.  , 156.  ,  22.28, 130.  , 120.  ],\n",
       "       [  7.  ,   3.  ,  63.  ,  15.75,  46.  , 136.95],\n",
       "       [  1.  ,   0.  ,   6.  ,   6.  ,  15.  ,  40.  ],\n",
       "       [  2.  ,   0.  ,  11.  ,   5.5 ,  10.  , 110.  ],\n",
       "       [  4.  ,   2.  ,  12.  ,   6.  ,   8.  , 150.  ],\n",
       "       [  9.  ,   6.  , 106.  ,  35.33,  88.  , 120.45],\n",
       "       [ 11.  ,   2.  , 282.  ,  31.33, 245.  , 115.1 ],\n",
       "       [  4.  ,   3.  ,   1.  ,   1.  ,   3.  ,  33.33],\n",
       "       [  6.  ,   1.  ,  18.  ,   3.6 ,  24.  ,  75.  ],\n",
       "       [  4.  ,   0.  ,   9.  ,   2.25,  12.  ,  75.  ],\n",
       "       [  5.  ,   2.  ,  70.  ,  23.33,  40.  , 175.  ],\n",
       "       [  1.  ,   1.  ,   3.  ,   0.  ,   7.  ,  42.85],\n",
       "       [  4.  ,   1.  ,  14.  ,   4.66,  15.  ,  93.33],\n",
       "       [  1.  ,   1.  ,   5.  ,   0.  ,   4.  , 125.  ],\n",
       "       [  7.  ,   1.  , 115.  ,  19.16,  76.  , 151.31],\n",
       "       [  1.  ,   1.  ,   0.  ,   0.  ,   2.  ,   0.  ],\n",
       "       [  8.  ,   5.  ,  40.  ,  13.33,  45.  ,  88.88],\n",
       "       [ 13.  ,   0.  , 405.  ,  31.15, 290.  , 139.65],\n",
       "       [  1.  ,   1.  ,   0.  ,   0.  ,   1.  ,   0.  ],\n",
       "       [  3.  ,   1.  ,   9.  ,   4.5 ,   9.  , 100.  ],\n",
       "       [  3.  ,   1.  ,  18.  ,   9.  ,  17.  , 105.88],\n",
       "       [  4.  ,   3.  ,  26.  ,  26.  ,  22.  , 118.18],\n",
       "       [  1.  ,   1.  ,   3.  ,   0.  ,   3.  , 100.  ],\n",
       "       [ 15.  ,   6.  , 402.  ,  44.66, 210.  , 191.42],\n",
       "       [  4.  ,   0.  ,  98.  ,  24.5 ,  75.  , 130.66],\n",
       "       [ 16.  ,   1.  , 521.  ,  34.73, 384.  , 135.67],\n",
       "       [  2.  ,   0.  ,   4.  ,   2.  ,   8.  ,  50.  ],\n",
       "       [  1.  ,   1.  ,   0.  ,   0.  ,   2.  ,   0.  ],\n",
       "       [ 16.  ,   3.  , 488.  ,  37.53, 300.  , 162.66],\n",
       "       [  3.  ,   0.  ,  48.  ,  16.  ,  52.  ,  92.3 ],\n",
       "       [  4.  ,   1.  ,  18.  ,   6.  ,  19.  ,  94.73],\n",
       "       [ 12.  ,   7.  , 416.  ,  83.2 , 309.  , 134.62],\n",
       "       [  5.  ,   2.  ,  12.  ,   4.  ,  19.  ,  63.15],\n",
       "       [  2.  ,   2.  ,   6.  ,   0.  ,   3.  , 200.  ],\n",
       "       [  4.  ,   2.  ,  12.  ,   6.  ,  11.  , 109.09],\n",
       "       [  7.  ,   1.  , 141.  ,  23.5 , 118.  , 119.49],\n",
       "       [ 15.  ,   2.  , 424.  ,  32.61, 324.  , 130.86],\n",
       "       [  3.  ,   2.  ,   3.  ,   3.  ,   5.  ,  60.  ],\n",
       "       [  2.  ,   0.  ,   7.  ,   3.5 ,   9.  ,  77.77],\n",
       "       [ 12.  ,   8.  , 165.  ,  41.25, 120.  , 137.5 ],\n",
       "       [  1.  ,   0.  ,   7.  ,   7.  ,  16.  ,  43.75],\n",
       "       [ 14.  ,   3.  , 593.  ,  53.9 , 438.  , 135.38],\n",
       "       [  1.  ,   1.  ,   9.  ,   0.  ,   3.  , 300.  ],\n",
       "       [  1.  ,   0.  ,   0.  ,   0.  ,   2.  ,   0.  ],\n",
       "       [ 12.  ,   3.  , 162.  ,  18.  , 169.  ,  95.85],\n",
       "       [ 13.  ,   4.  , 510.  ,  56.66, 249.  , 204.81],\n",
       "       [  1.  ,   1.  ,   4.  ,   0.  ,   3.  , 133.33],\n",
       "       [ 12.  ,   1.  , 396.  ,  36.  , 321.  , 123.36],\n",
       "       [ 15.  ,   4.  , 183.  ,  16.63, 150.  , 122.  ],\n",
       "       [ 13.  ,   1.  , 490.  ,  40.83, 319.  , 153.6 ],\n",
       "       [  3.  ,   0.  ,  98.  ,  32.66,  70.  , 140.  ],\n",
       "       [  2.  ,   1.  ,   0.  ,   0.  ,   2.  ,   0.  ],\n",
       "       [  4.  ,   1.  ,  11.  ,   3.66,  16.  ,  68.75],\n",
       "       [ 12.  ,   2.  , 692.  ,  69.2 , 481.  , 143.86],\n",
       "       [ 10.  ,   2.  , 220.  ,  27.5 , 133.  , 165.41],\n",
       "       [ 13.  ,   4.  , 296.  ,  32.88, 238.  , 124.36],\n",
       "       [  5.  ,   0.  ,  90.  ,  18.  ,  73.  , 123.28],\n",
       "       [  8.  ,   3.  ,  34.  ,   6.8 ,  23.  , 147.82],\n",
       "       [ 10.  ,   2.  , 213.  ,  26.62, 164.  , 129.87],\n",
       "       [ 11.  ,   1.  , 344.  ,  34.4 , 235.  , 146.38],\n",
       "       [  3.  ,   1.  ,  37.  ,  18.5 ,  34.  , 108.82],\n",
       "       [ 14.  ,   6.  , 279.  ,  34.87, 178.  , 156.74],\n",
       "       [  1.  ,   0.  ,   7.  ,   7.  ,  12.  ,  58.33],\n",
       "       [  4.  ,   0.  ,  84.  ,  21.  ,  70.  , 120.  ],\n",
       "       [  2.  ,   1.  ,   2.  ,   2.  ,   4.  ,  50.  ],\n",
       "       [  2.  ,   0.  ,  64.  ,  32.  ,  61.  , 104.91],\n",
       "       [ 13.  ,   5.  , 253.  ,  31.62, 173.  , 146.24],\n",
       "       [  2.  ,   1.  ,   0.  ,   0.  ,   1.  ,   0.  ],\n",
       "       [ 15.  ,   1.  , 405.  ,  28.92, 315.  , 128.57],\n",
       "       [  1.  ,   0.  ,   6.  ,   6.  ,  11.  ,  54.54],\n",
       "       [ 17.  ,   1.  , 383.  ,  23.93, 314.  , 121.97],\n",
       "       [ 17.  ,   5.  , 282.  ,  23.5 , 303.  ,  93.06],\n",
       "       [ 12.  ,   6.  , 110.  ,  18.33,  88.  , 125.  ],\n",
       "       [  2.  ,   1.  ,   1.  ,   1.  ,   2.  ,  50.  ],\n",
       "       [  1.  ,   1.  ,   9.  ,   0.  ,   9.  , 100.  ],\n",
       "       [  1.  ,   0.  ,  19.  ,  19.  ,  24.  ,  79.16],\n",
       "       [  7.  ,   1.  ,  64.  ,  10.66,  63.  , 101.58],\n",
       "       [  3.  ,   2.  ,   0.  ,   0.  ,   4.  ,   0.  ],\n",
       "       [  7.  ,   5.  ,  25.  ,  12.5 ,  25.  , 100.  ],\n",
       "       [  4.  ,   1.  ,  46.  ,  15.33,  49.  ,  93.87],\n",
       "       [  4.  ,   1.  ,   3.  ,   1.  ,  10.  ,  30.  ],\n",
       "       [  4.  ,   2.  ,  21.  ,  10.5 ,  24.  ,  87.5 ],\n",
       "       [  1.  ,   0.  ,   5.  ,   5.  ,   8.  ,  62.5 ],\n",
       "       [ 14.  ,   0.  , 373.  ,  26.64, 268.  , 139.17],\n",
       "       [  1.  ,   0.  ,   0.  ,   0.  ,   1.  ,   0.  ],\n",
       "       [  4.  ,   1.  ,  40.  ,  13.33,  33.  , 121.21],\n",
       "       [  2.  ,   1.  ,  32.  ,  32.  ,  23.  , 139.13],\n",
       "       [ 13.  ,   0.  , 332.  ,  25.53, 234.  , 141.88],\n",
       "       [  1.  ,   1.  ,  20.  ,   0.  ,  12.  , 166.66],\n",
       "       [  3.  ,   3.  ,   0.  ,   0.  ,   1.  ,   0.  ],\n",
       "       [  1.  ,   0.  ,   0.  ,   0.  ,   1.  ,   0.  ],\n",
       "       [  5.  ,   1.  , 180.  ,  45.  , 143.  , 125.87],\n",
       "       [  3.  ,   0.  ,  81.  ,  27.  ,  53.  , 152.83],\n",
       "       [  1.  ,   0.  ,  15.  ,  15.  ,  13.  , 115.38],\n",
       "       [  5.  ,   2.  ,  42.  ,  14.  ,  37.  , 113.51],\n",
       "       [  2.  ,   2.  ,  15.  ,   0.  ,  13.  , 115.38],\n",
       "       [ 10.  ,   6.  , 211.  ,  52.75, 156.  , 135.25],\n",
       "       [ 16.  ,   0.  , 353.  ,  22.06, 264.  , 133.71],\n",
       "       [ 10.  ,   2.  , 445.  ,  55.62, 283.  , 157.24],\n",
       "       [  1.  ,   0.  ,   8.  ,   8.  ,   3.  , 266.66],\n",
       "       [  5.  ,   0.  ,  61.  ,  12.2 ,  57.  , 107.01],\n",
       "       [  4.  ,   3.  ,   4.  ,   4.  ,  14.  ,  28.57],\n",
       "       [  9.  ,   3.  , 123.  ,  20.5 ,  99.  , 124.24]])"
      ]
     },
     "execution_count": 7,
     "metadata": {},
     "output_type": "execute_result"
    }
   ],
   "source": [
    "X_train"
   ]
  },
  {
   "cell_type": "code",
   "execution_count": 8,
   "id": "20aa689e",
   "metadata": {},
   "outputs": [],
   "source": [
    "from sklearn.preprocessing import StandardScaler\n",
    "sc_X = StandardScaler()\n",
    "sc_y = StandardScaler()\n",
    "X_train = sc_X.fit_transform(X_train)\n",
    "y_train = sc_y.fit_transform(y_train)"
   ]
  },
  {
   "cell_type": "code",
   "execution_count": 9,
   "id": "2a7d862c",
   "metadata": {},
   "outputs": [
    {
     "name": "stderr",
     "output_type": "stream",
     "text": [
      "c:\\users\\yash karnik\\appdata\\local\\programs\\python\\python39\\lib\\site-packages\\sklearn\\utils\\validation.py:985: DataConversionWarning: A column-vector y was passed when a 1d array was expected. Please change the shape of y to (n_samples, ), for example using ravel().\n",
      "  y = column_or_1d(y, warn=True)\n"
     ]
    },
    {
     "data": {
      "text/plain": [
       "SVR()"
      ]
     },
     "execution_count": 9,
     "metadata": {},
     "output_type": "execute_result"
    }
   ],
   "source": [
    "from sklearn.svm import SVR\n",
    "regressor = SVR(kernel = 'rbf')\n",
    "regressor.fit(X_train, y_train)"
   ]
  },
  {
   "cell_type": "code",
   "execution_count": 10,
   "id": "57da654c",
   "metadata": {},
   "outputs": [],
   "source": [
    "y_pred=regressor.predict(sc_X.transform(X_train))\n",
    "y_pred=y_pred.reshape(len(y_pred),1)\n",
    "y_pred=sc_y.inverse_transform(y_pred)"
   ]
  },
  {
   "cell_type": "code",
   "execution_count": 11,
   "id": "7a0e6d5e",
   "metadata": {},
   "outputs": [
    {
     "data": {
      "text/plain": [
       "115"
      ]
     },
     "execution_count": 11,
     "metadata": {},
     "output_type": "execute_result"
    }
   ],
   "source": [
    "y_pred.reshape(len(y_pred)).__len__()"
   ]
  },
  {
   "cell_type": "code",
   "execution_count": 12,
   "id": "de8391fd",
   "metadata": {},
   "outputs": [
    {
     "data": {
      "text/plain": [
       "29"
      ]
     },
     "execution_count": 12,
     "metadata": {},
     "output_type": "execute_result"
    }
   ],
   "source": [
    "y_test.reshape(len(y_test)).__len__()"
   ]
  },
  {
   "cell_type": "code",
   "execution_count": 13,
   "id": "97113539",
   "metadata": {},
   "outputs": [
    {
     "ename": "ValueError",
     "evalue": "Found input variables with inconsistent numbers of samples: [29, 115]",
     "output_type": "error",
     "traceback": [
      "\u001b[1;31m---------------------------------------------------------------------------\u001b[0m",
      "\u001b[1;31mValueError\u001b[0m                                Traceback (most recent call last)",
      "\u001b[1;32mC:\\Users\\YASHKA~1\\AppData\\Local\\Temp/ipykernel_5660/2535254390.py\u001b[0m in \u001b[0;36m<module>\u001b[1;34m\u001b[0m\n\u001b[0;32m      1\u001b[0m \u001b[1;32mfrom\u001b[0m \u001b[0msklearn\u001b[0m\u001b[1;33m.\u001b[0m\u001b[0mmetrics\u001b[0m \u001b[1;32mimport\u001b[0m \u001b[0mmean_squared_error\u001b[0m\u001b[1;33m,\u001b[0m\u001b[0mr2_score\u001b[0m\u001b[1;33m\u001b[0m\u001b[1;33m\u001b[0m\u001b[0m\n\u001b[0;32m      2\u001b[0m \u001b[1;31m# The mean squared error\u001b[0m\u001b[1;33m\u001b[0m\u001b[1;33m\u001b[0m\u001b[1;33m\u001b[0m\u001b[0m\n\u001b[1;32m----> 3\u001b[1;33m \u001b[0mprint\u001b[0m\u001b[1;33m(\u001b[0m\u001b[1;34m'Mean squared error: %.2f'\u001b[0m\u001b[1;33m%\u001b[0m \u001b[0mmean_squared_error\u001b[0m\u001b[1;33m(\u001b[0m\u001b[0my_test\u001b[0m\u001b[1;33m,\u001b[0m\u001b[0my_pred\u001b[0m\u001b[1;33m)\u001b[0m\u001b[1;33m)\u001b[0m\u001b[1;33m\u001b[0m\u001b[1;33m\u001b[0m\u001b[0m\n\u001b[0m\u001b[0;32m      4\u001b[0m \u001b[1;31m# The coefficient of determination: 1 is perfect prediction\u001b[0m\u001b[1;33m\u001b[0m\u001b[1;33m\u001b[0m\u001b[1;33m\u001b[0m\u001b[0m\n\u001b[0;32m      5\u001b[0m \u001b[1;31m# print('Coefficient of determination: %.2f'% r2_score(y_test.reshape(len(y_test)), y_pred.reshape(len(y_pred))))\u001b[0m\u001b[1;33m\u001b[0m\u001b[1;33m\u001b[0m\u001b[1;33m\u001b[0m\u001b[0m\n",
      "\u001b[1;32mc:\\users\\yash karnik\\appdata\\local\\programs\\python\\python39\\lib\\site-packages\\sklearn\\metrics\\_regression.py\u001b[0m in \u001b[0;36mmean_squared_error\u001b[1;34m(y_true, y_pred, sample_weight, multioutput, squared)\u001b[0m\n\u001b[0;32m    421\u001b[0m     \u001b[1;36m0.825\u001b[0m\u001b[1;33m...\u001b[0m\u001b[1;33m\u001b[0m\u001b[1;33m\u001b[0m\u001b[0m\n\u001b[0;32m    422\u001b[0m     \"\"\"\n\u001b[1;32m--> 423\u001b[1;33m     y_type, y_true, y_pred, multioutput = _check_reg_targets(\n\u001b[0m\u001b[0;32m    424\u001b[0m         \u001b[0my_true\u001b[0m\u001b[1;33m,\u001b[0m \u001b[0my_pred\u001b[0m\u001b[1;33m,\u001b[0m \u001b[0mmultioutput\u001b[0m\u001b[1;33m\u001b[0m\u001b[1;33m\u001b[0m\u001b[0m\n\u001b[0;32m    425\u001b[0m     )\n",
      "\u001b[1;32mc:\\users\\yash karnik\\appdata\\local\\programs\\python\\python39\\lib\\site-packages\\sklearn\\metrics\\_regression.py\u001b[0m in \u001b[0;36m_check_reg_targets\u001b[1;34m(y_true, y_pred, multioutput, dtype)\u001b[0m\n\u001b[0;32m     87\u001b[0m         \u001b[0mthe\u001b[0m \u001b[0mdtype\u001b[0m \u001b[0margument\u001b[0m \u001b[0mpassed\u001b[0m \u001b[0mto\u001b[0m \u001b[0mcheck_array\u001b[0m\u001b[1;33m.\u001b[0m\u001b[1;33m\u001b[0m\u001b[1;33m\u001b[0m\u001b[0m\n\u001b[0;32m     88\u001b[0m     \"\"\"\n\u001b[1;32m---> 89\u001b[1;33m     \u001b[0mcheck_consistent_length\u001b[0m\u001b[1;33m(\u001b[0m\u001b[0my_true\u001b[0m\u001b[1;33m,\u001b[0m \u001b[0my_pred\u001b[0m\u001b[1;33m)\u001b[0m\u001b[1;33m\u001b[0m\u001b[1;33m\u001b[0m\u001b[0m\n\u001b[0m\u001b[0;32m     90\u001b[0m     \u001b[0my_true\u001b[0m \u001b[1;33m=\u001b[0m \u001b[0mcheck_array\u001b[0m\u001b[1;33m(\u001b[0m\u001b[0my_true\u001b[0m\u001b[1;33m,\u001b[0m \u001b[0mensure_2d\u001b[0m\u001b[1;33m=\u001b[0m\u001b[1;32mFalse\u001b[0m\u001b[1;33m,\u001b[0m \u001b[0mdtype\u001b[0m\u001b[1;33m=\u001b[0m\u001b[0mdtype\u001b[0m\u001b[1;33m)\u001b[0m\u001b[1;33m\u001b[0m\u001b[1;33m\u001b[0m\u001b[0m\n\u001b[0;32m     91\u001b[0m     \u001b[0my_pred\u001b[0m \u001b[1;33m=\u001b[0m \u001b[0mcheck_array\u001b[0m\u001b[1;33m(\u001b[0m\u001b[0my_pred\u001b[0m\u001b[1;33m,\u001b[0m \u001b[0mensure_2d\u001b[0m\u001b[1;33m=\u001b[0m\u001b[1;32mFalse\u001b[0m\u001b[1;33m,\u001b[0m \u001b[0mdtype\u001b[0m\u001b[1;33m=\u001b[0m\u001b[0mdtype\u001b[0m\u001b[1;33m)\u001b[0m\u001b[1;33m\u001b[0m\u001b[1;33m\u001b[0m\u001b[0m\n",
      "\u001b[1;32mc:\\users\\yash karnik\\appdata\\local\\programs\\python\\python39\\lib\\site-packages\\sklearn\\utils\\validation.py\u001b[0m in \u001b[0;36mcheck_consistent_length\u001b[1;34m(*arrays)\u001b[0m\n\u001b[0;32m    329\u001b[0m     \u001b[0muniques\u001b[0m \u001b[1;33m=\u001b[0m \u001b[0mnp\u001b[0m\u001b[1;33m.\u001b[0m\u001b[0munique\u001b[0m\u001b[1;33m(\u001b[0m\u001b[0mlengths\u001b[0m\u001b[1;33m)\u001b[0m\u001b[1;33m\u001b[0m\u001b[1;33m\u001b[0m\u001b[0m\n\u001b[0;32m    330\u001b[0m     \u001b[1;32mif\u001b[0m \u001b[0mlen\u001b[0m\u001b[1;33m(\u001b[0m\u001b[0muniques\u001b[0m\u001b[1;33m)\u001b[0m \u001b[1;33m>\u001b[0m \u001b[1;36m1\u001b[0m\u001b[1;33m:\u001b[0m\u001b[1;33m\u001b[0m\u001b[1;33m\u001b[0m\u001b[0m\n\u001b[1;32m--> 331\u001b[1;33m         raise ValueError(\n\u001b[0m\u001b[0;32m    332\u001b[0m             \u001b[1;34m\"Found input variables with inconsistent numbers of samples: %r\"\u001b[0m\u001b[1;33m\u001b[0m\u001b[1;33m\u001b[0m\u001b[0m\n\u001b[0;32m    333\u001b[0m             \u001b[1;33m%\u001b[0m \u001b[1;33m[\u001b[0m\u001b[0mint\u001b[0m\u001b[1;33m(\u001b[0m\u001b[0ml\u001b[0m\u001b[1;33m)\u001b[0m \u001b[1;32mfor\u001b[0m \u001b[0ml\u001b[0m \u001b[1;32min\u001b[0m \u001b[0mlengths\u001b[0m\u001b[1;33m]\u001b[0m\u001b[1;33m\u001b[0m\u001b[1;33m\u001b[0m\u001b[0m\n",
      "\u001b[1;31mValueError\u001b[0m: Found input variables with inconsistent numbers of samples: [29, 115]"
     ]
    }
   ],
   "source": [
    "from sklearn.metrics import mean_squared_error,r2_score\n",
    "# The mean squared error\n",
    "print('Mean squared error: %.2f'% mean_squared_error(y_test,y_pred))\n",
    "# The coefficient of determination: 1 is perfect prediction\n",
    "# print('Coefficient of determination: %.2f'% r2_score(y_test.reshape(len(y_test)), y_pred.reshape(len(y_pred))))"
   ]
  }
 ],
 "metadata": {
  "kernelspec": {
   "display_name": "Python 3 (ipykernel)",
   "language": "python",
   "name": "python3"
  },
  "language_info": {
   "codemirror_mode": {
    "name": "ipython",
    "version": 3
   },
   "file_extension": ".py",
   "mimetype": "text/x-python",
   "name": "python",
   "nbconvert_exporter": "python",
   "pygments_lexer": "ipython3",
   "version": "3.9.6"
  }
 },
 "nbformat": 4,
 "nbformat_minor": 5
}
