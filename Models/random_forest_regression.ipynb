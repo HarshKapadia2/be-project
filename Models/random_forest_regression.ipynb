{
  "nbformat": 4,
  "nbformat_minor": 0,
  "metadata": {
    "colab": {
      "name": "random_forest_regression.ipynb",
      "provenance": []
    },
    "kernelspec": {
      "name": "python3",
      "display_name": "Python 3"
    }
  },
  "cells": [
    {
      "cell_type": "markdown",
      "metadata": {
        "id": "LeamvpPVXuS_"
      },
      "source": [
        "# Random Forest Regression"
      ]
    },
    {
      "cell_type": "code",
      "metadata": {
        "id": "PVmESEFZX4Ig"
      },
      "source": [
        "import numpy as np\n",
        "import matplotlib.pyplot as plt\n",
        "import pandas as pd"
      ],
      "execution_count": 21,
      "outputs": []
    },
    {
      "cell_type": "code",
      "source": [
        "dataset=pd.read_excel('dataset.xlsx','Bowlers')\n",
        "X = dataset.iloc[:, 1:-1].values\n",
        "y = dataset.iloc[:, -1].values"
      ],
      "metadata": {
        "id": "_9A6SzADw6Sh"
      },
      "execution_count": 22,
      "outputs": []
    },
    {
      "cell_type": "code",
      "source": [
        "from sklearn.impute import SimpleImputer\n",
        "imputer = SimpleImputer(missing_values=np.nan, strategy='mean')\n",
        "imputer.fit(X[:, :])\n",
        "X[:, :] = imputer.transform(X[:, :])\n",
        "X"
      ],
      "metadata": {
        "id": "cyuXeUdExUeu",
        "colab": {
          "base_uri": "https://localhost:8080/"
        },
        "outputId": "bc1a8afd-8043-4f51-d575-1c389e93ff8e"
      },
      "execution_count": 23,
      "outputs": [
        {
          "output_type": "execute_result",
          "data": {
            "text/plain": [
              "array([[ 47.  ,  25.  ,  14.72,   7.82,  11.28],\n",
              "       [ 64.3 ,  22.  ,  21.9 ,   7.47,  17.59],\n",
              "       [ 48.  ,  20.  ,  17.35,   7.22,  14.4 ],\n",
              "       [ 61.4 ,  19.  ,  21.52,   6.63,  19.47],\n",
              "       [ 34.5 ,  19.  ,  15.1 ,   8.23,  11.  ],\n",
              "       [ 54.  ,  19.  ,  24.68,   8.68,  17.05],\n",
              "       [ 49.2 ,  18.  ,  21.44,   7.82,  16.44],\n",
              "       [ 60.  ,  17.  ,  22.17,   6.28,  21.17],\n",
              "       [ 44.  ,  16.  ,  19.5 ,   7.09,  16.5 ],\n",
              "       [ 44.5 ,  16.  ,  27.37,   9.76,  16.81],\n",
              "       [ 54.  ,  15.  ,  22.86,   6.35,  21.6 ],\n",
              "       [ 55.  ,  15.  ,  26.66,   7.27,  22.  ],\n",
              "       [ 42.3 ,  14.  ,  27.85,   9.17,  18.21],\n",
              "       [ 47.  ,  13.  ,  23.69,   6.55,  21.69],\n",
              "       [ 46.  ,  13.  ,  26.84,   7.58,  21.23],\n",
              "       [ 59.  ,  13.  ,  35.46,   7.81,  27.23],\n",
              "       [ 33.  ,  13.  ,  23.53,   9.27,  15.23],\n",
              "       [ 46.  ,  12.  ,  27.91,   7.28,  23.  ],\n",
              "       [ 42.4 ,  12.  ,  29.33,   8.25,  21.33],\n",
              "       [ 40.  ,  11.  ,  24.54,   6.75,  21.81],\n",
              "       [ 43.  ,  11.  ,  26.45,   6.76,  23.45],\n",
              "       [ 41.1 ,  11.  ,  30.  ,   8.01,  22.45],\n",
              "       [ 48.  ,  11.  ,  36.09,   8.27,  26.18],\n",
              "       [ 30.1 ,  11.  ,  26.09,   9.51,  16.45],\n",
              "       [ 51.  ,  10.  ,  36.4 ,   7.13,  30.6 ],\n",
              "       [ 44.2 ,  10.  ,  34.7 ,   7.82,  26.6 ],\n",
              "       [ 44.3 ,  10.  ,  39.9 ,   8.96,  26.7 ],\n",
              "       [ 33.  ,  10.  ,  32.3 ,   9.78,  19.8 ],\n",
              "       [ 37.2 ,  10.  ,  39.8 ,  10.66,  22.4 ],\n",
              "       [ 27.1 ,   9.  ,  26.33,   8.72,  18.11],\n",
              "       [ 29.1 ,   8.  ,  24.25,   6.65,  21.87],\n",
              "       [ 23.  ,   8.  ,  26.25,   9.13,  17.25],\n",
              "       [ 30.  ,   8.  ,  35.12,   9.36,  22.5 ],\n",
              "       [ 37.5 ,   8.  ,  46.37,   9.8 ,  28.37],\n",
              "       [ 27.  ,   7.  ,  34.  ,   8.81,  23.14],\n",
              "       [ 28.1 ,   7.  ,  38.42,   9.55,  24.14],\n",
              "       [ 23.  ,   7.  ,  31.71,   9.65,  19.71],\n",
              "       [ 25.  ,   6.  ,  28.16,   6.76,  25.  ],\n",
              "       [ 27.  ,   6.  ,  40.33,   8.96,  27.  ],\n",
              "       [ 35.  ,   6.  ,  55.83,   9.57,  35.  ],\n",
              "       [  8.4 ,   6.  ,  14.5 ,  10.03,   8.66],\n",
              "       [ 16.5 ,   6.  ,  31.5 ,  11.22,  16.83],\n",
              "       [ 34.  ,   5.  ,  51.  ,   7.5 ,  40.8 ],\n",
              "       [ 10.  ,   5.  ,  15.8 ,   7.9 ,  12.  ],\n",
              "       [ 19.  ,   5.  ,  32.6 ,   8.57,  22.8 ],\n",
              "       [ 19.  ,   5.  ,  33.  ,   8.68,  22.8 ],\n",
              "       [ 14.  ,   4.  ,  23.5 ,   6.71,  21.  ],\n",
              "       [  9.  ,   4.  ,  18.5 ,   8.22,  13.5 ],\n",
              "       [  8.  ,   4.  ,  17.25,   8.62,  12.  ],\n",
              "       [ 33.  ,   4.  ,  71.5 ,   8.66,  49.5 ],\n",
              "       [ 40.2 ,   4.  ,  94.25,   9.34,  60.5 ],\n",
              "       [  7.1 ,   4.  ,  16.75,   9.34,  10.75],\n",
              "       [ 12.  ,   4.  ,  29.  ,   9.66,  18.  ],\n",
              "       [ 18.  ,   3.  ,  47.33,   7.88,  36.  ],\n",
              "       [  8.  ,   3.  ,  24.  ,   9.  ,  16.  ],\n",
              "       [ 11.1 ,   3.  ,  34.  ,   9.13,  22.33],\n",
              "       [ 16.  ,   3.  ,  50.66,   9.5 ,  32.  ],\n",
              "       [ 19.  ,   3.  ,  63.66,  10.05,  38.  ],\n",
              "       [ 22.  ,   3.  ,  77.66,  10.59,  44.  ],\n",
              "       [ 10.  ,   3.  ,  36.33,  10.9 ,  20.  ],\n",
              "       [  6.2 ,   2.  ,  21.  ,   6.63,  19.  ],\n",
              "       [  4.  ,   2.  ,  14.  ,   7.  ,  12.  ],\n",
              "       [ 12.  ,   2.  ,  42.5 ,   7.08,  36.  ],\n",
              "       [ 14.  ,   2.  ,  60.5 ,   8.64,  42.  ],\n",
              "       [ 16.4 ,   2.  ,  72.5 ,   8.7 ,  50.  ],\n",
              "       [ 10.5 ,   2.  ,  47.5 ,   8.76,  32.5 ],\n",
              "       [  8.  ,   2.  ,  35.5 ,   8.87,  24.  ],\n",
              "       [  8.  ,   2.  ,  38.5 ,   9.62,  24.  ],\n",
              "       [  9.  ,   2.  ,  45.  ,  10.  ,  27.  ],\n",
              "       [ 17.  ,   2.  ,  91.5 ,  10.76,  51.  ],\n",
              "       [  2.  ,   1.  ,  11.  ,   5.5 ,  12.  ],\n",
              "       [  7.  ,   1.  ,  44.  ,   6.28,  42.  ],\n",
              "       [  7.  ,   1.  ,  50.  ,   7.14,  42.  ],\n",
              "       [ 20.  ,   1.  , 166.  ,   8.3 , 120.  ],\n",
              "       [  6.5 ,   1.  ,  59.  ,   8.63,  41.  ],\n",
              "       [  8.  ,   1.  ,  70.  ,   8.75,  48.  ],\n",
              "       [  3.  ,   1.  ,  27.  ,   9.  ,  18.  ],\n",
              "       [  5.  ,   1.  ,  47.  ,   9.4 ,  30.  ],\n",
              "       [  6.  ,   1.  ,  59.  ,   9.83,  36.  ],\n",
              "       [  2.  ,   1.  ,  21.  ,  10.5 ,  12.  ],\n",
              "       [  2.  ,   1.  ,  21.  ,  10.5 ,  12.  ],\n",
              "       [  5.  ,   1.  ,  57.  ,  11.4 ,  30.  ],\n",
              "       [  2.5 ,   1.  ,  33.  ,  11.64,  17.  ],\n",
              "       [  3.  ,   1.  ,  35.  ,  11.66,  18.  ],\n",
              "       [  9.  ,   1.  , 118.  ,  13.11,  54.  ],\n",
              "       [  2.  ,   1.  ,  27.  ,  13.5 ,  12.  ],\n",
              "       [  1.4 ,   0.  ,   0.  ,   4.8 ,   0.  ],\n",
              "       [  1.  ,   0.  ,   0.  ,   6.  ,   0.  ],\n",
              "       [  1.  ,   0.  ,   0.  ,   8.  ,   0.  ],\n",
              "       [  1.  ,   0.  ,   0.  ,   9.  ,   0.  ],\n",
              "       [ 12.  ,   0.  ,   0.  ,   9.16,   0.  ],\n",
              "       [  5.  ,   0.  ,   0.  ,   9.6 ,   0.  ],\n",
              "       [  3.  ,   0.  ,   0.  ,   9.66,   0.  ],\n",
              "       [  3.  ,   0.  ,   0.  ,  10.  ,   0.  ],\n",
              "       [  4.  ,   0.  ,   0.  ,  10.5 ,   0.  ],\n",
              "       [  5.  ,   0.  ,   0.  ,  11.  ,   0.  ],\n",
              "       [  4.  ,   0.  ,   0.  ,  12.75,   0.  ],\n",
              "       [  1.  ,   0.  ,   0.  ,  13.  ,   0.  ],\n",
              "       [  2.  ,   0.  ,   0.  ,  13.  ,   0.  ],\n",
              "       [  2.  ,   0.  ,   0.  ,  13.5 ,   0.  ],\n",
              "       [  4.  ,   0.  ,   0.  ,  14.  ,   0.  ],\n",
              "       [  2.  ,   0.  ,   0.  ,  17.  ,   0.  ],\n",
              "       [  0.2 ,   0.  ,   0.  ,  18.  ,   0.  ]])"
            ]
          },
          "metadata": {},
          "execution_count": 23
        }
      ]
    },
    {
      "cell_type": "code",
      "source": [
        "from sklearn.model_selection import train_test_split\n",
        "X_train, X_test, y_train, y_test = train_test_split(X, y, test_size = 0.2, random_state = 0)"
      ],
      "metadata": {
        "id": "dVujhSllxexu"
      },
      "execution_count": 24,
      "outputs": []
    },
    {
      "cell_type": "code",
      "metadata": {
        "id": "o8dOCoJ1YKMc",
        "colab": {
          "base_uri": "https://localhost:8080/"
        },
        "outputId": "f49dc9ee-6951-4028-828d-fd3f38cad6dd"
      },
      "source": [
        "from sklearn.ensemble import RandomForestRegressor\n",
        "regressor = RandomForestRegressor(n_estimators = 10, random_state = 0)\n",
        "regressor.fit(X_train, y_train)"
      ],
      "execution_count": 25,
      "outputs": [
        {
          "output_type": "execute_result",
          "data": {
            "text/plain": [
              "RandomForestRegressor(n_estimators=10, random_state=0)"
            ]
          },
          "metadata": {},
          "execution_count": 25
        }
      ]
    },
    {
      "cell_type": "code",
      "source": [
        "X_train.shape"
      ],
      "metadata": {
        "colab": {
          "base_uri": "https://localhost:8080/"
        },
        "id": "DUWGQvzExxyv",
        "outputId": "edfefe7e-750e-4924-dd60-2d6047383cf3"
      },
      "execution_count": 26,
      "outputs": [
        {
          "output_type": "execute_result",
          "data": {
            "text/plain": [
              "(82, 5)"
            ]
          },
          "metadata": {},
          "execution_count": 26
        }
      ]
    },
    {
      "cell_type": "code",
      "source": [
        "y_train.shape"
      ],
      "metadata": {
        "colab": {
          "base_uri": "https://localhost:8080/"
        },
        "id": "t_AwNeaXx1bL",
        "outputId": "3d84621d-d8df-4ae6-db52-ab549b874469"
      },
      "execution_count": 27,
      "outputs": [
        {
          "output_type": "execute_result",
          "data": {
            "text/plain": [
              "(82,)"
            ]
          },
          "metadata": {},
          "execution_count": 27
        }
      ]
    },
    {
      "cell_type": "code",
      "metadata": {
        "id": "pTXrS8FEYQlJ"
      },
      "source": [
        "y_pred = regressor.predict(X_test)"
      ],
      "execution_count": 28,
      "outputs": []
    },
    {
      "cell_type": "code",
      "source": [
        "y_pred"
      ],
      "metadata": {
        "colab": {
          "base_uri": "https://localhost:8080/"
        },
        "id": "7V6YzAcl0cnC",
        "outputId": "98177c4f-7b99-4564-edda-2978c57e0ad0"
      },
      "execution_count": 29,
      "outputs": [
        {
          "output_type": "execute_result",
          "data": {
            "text/plain": [
              "array([642.  , 117.8 , 458.  , 111.75, 302.5 , 191.5 , 465.  ,  85.5 ,\n",
              "       310.5 , 160.25,  76.3 ,   0.  , 120.  , 523.  , 579.  , 231.  ,\n",
              "       662.  , 612.  , 146.5 , 552.  , 175.25])"
            ]
          },
          "metadata": {},
          "execution_count": 29
        }
      ]
    },
    {
      "cell_type": "code",
      "source": [
        "from sklearn.metrics import mean_squared_error,r2_score\n",
        "#The mean squared error\n",
        "print('Mean squared error: %.2f'% mean_squared_error(y_test,y_pred))\n",
        "print('Coefficient of determination: %.2f'% r2_score(y_test, y_pred))\n"
      ],
      "metadata": {
        "id": "4Ac7WIyNyGi-",
        "colab": {
          "base_uri": "https://localhost:8080/"
        },
        "outputId": "06543a9a-c094-4991-e007-10c6d407affc"
      },
      "execution_count": 30,
      "outputs": [
        {
          "output_type": "stream",
          "name": "stdout",
          "text": [
            "Mean squared error: 59648.93\n",
            "Coefficient of determination: -0.06\n"
          ]
        }
      ]
    }
  ]
}