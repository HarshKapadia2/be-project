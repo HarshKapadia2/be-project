{
 "cells": [
  {
   "cell_type": "code",
   "execution_count": 12,
   "id": "4279f278",
   "metadata": {},
   "outputs": [],
   "source": [
    "import numpy as np\n",
    "import pandas as pd"
   ]
  },
  {
   "cell_type": "code",
   "execution_count": 13,
   "id": "755b65aa",
   "metadata": {},
   "outputs": [],
   "source": [
    "dataset=pd.read_excel('../final_dataset_merged_v2.xlsx','Bowlers')\n",
    "X = dataset.iloc[:, 1:-1].values\n",
    "y = dataset.iloc[:, -1].values"
   ]
  },
  {
   "cell_type": "code",
   "execution_count": 14,
   "id": "d380a03b",
   "metadata": {},
   "outputs": [
    {
     "data": {
      "text/html": [
       "<div>\n",
       "<style scoped>\n",
       "    .dataframe tbody tr th:only-of-type {\n",
       "        vertical-align: middle;\n",
       "    }\n",
       "\n",
       "    .dataframe tbody tr th {\n",
       "        vertical-align: top;\n",
       "    }\n",
       "\n",
       "    .dataframe thead th {\n",
       "        text-align: right;\n",
       "    }\n",
       "</style>\n",
       "<table border=\"1\" class=\"dataframe\">\n",
       "  <thead>\n",
       "    <tr style=\"text-align: right;\">\n",
       "      <th></th>\n",
       "      <th>Player</th>\n",
       "      <th>Ov</th>\n",
       "      <th>Wkts</th>\n",
       "      <th>Avg</th>\n",
       "      <th>Econ</th>\n",
       "      <th>SR</th>\n",
       "      <th>Price</th>\n",
       "    </tr>\n",
       "  </thead>\n",
       "  <tbody>\n",
       "    <tr>\n",
       "      <th>0</th>\n",
       "      <td>Bhuvneshwar Kumar</td>\n",
       "      <td>49.15</td>\n",
       "      <td>17.5</td>\n",
       "      <td>26.760</td>\n",
       "      <td>7.355</td>\n",
       "      <td>21.420</td>\n",
       "      <td>850</td>\n",
       "    </tr>\n",
       "    <tr>\n",
       "      <th>1</th>\n",
       "      <td>Jaydev Unadkat</td>\n",
       "      <td>47.85</td>\n",
       "      <td>17.5</td>\n",
       "      <td>28.795</td>\n",
       "      <td>8.335</td>\n",
       "      <td>19.450</td>\n",
       "      <td>840</td>\n",
       "    </tr>\n",
       "    <tr>\n",
       "      <th>2</th>\n",
       "      <td>Jasprit Bumrah</td>\n",
       "      <td>56.60</td>\n",
       "      <td>18.5</td>\n",
       "      <td>21.915</td>\n",
       "      <td>7.135</td>\n",
       "      <td>18.425</td>\n",
       "      <td>700</td>\n",
       "    </tr>\n",
       "    <tr>\n",
       "      <th>3</th>\n",
       "      <td>Mitchell McClenaghan</td>\n",
       "      <td>47.00</td>\n",
       "      <td>16.5</td>\n",
       "      <td>25.195</td>\n",
       "      <td>8.840</td>\n",
       "      <td>17.095</td>\n",
       "      <td>100</td>\n",
       "    </tr>\n",
       "    <tr>\n",
       "      <th>4</th>\n",
       "      <td>Imran Tahir</td>\n",
       "      <td>33.70</td>\n",
       "      <td>12.0</td>\n",
       "      <td>25.915</td>\n",
       "      <td>8.470</td>\n",
       "      <td>18.160</td>\n",
       "      <td>100</td>\n",
       "    </tr>\n",
       "  </tbody>\n",
       "</table>\n",
       "</div>"
      ],
      "text/plain": [
       "                 Player     Ov  Wkts     Avg   Econ      SR  Price\n",
       "0     Bhuvneshwar Kumar  49.15  17.5  26.760  7.355  21.420    850\n",
       "1        Jaydev Unadkat  47.85  17.5  28.795  8.335  19.450    840\n",
       "2        Jasprit Bumrah  56.60  18.5  21.915  7.135  18.425    700\n",
       "3  Mitchell McClenaghan  47.00  16.5  25.195  8.840  17.095    100\n",
       "4           Imran Tahir  33.70  12.0  25.915  8.470  18.160    100"
      ]
     },
     "execution_count": 14,
     "metadata": {},
     "output_type": "execute_result"
    }
   ],
   "source": [
    "dataset.head(5)"
   ]
  },
  {
   "cell_type": "code",
   "execution_count": 15,
   "id": "3c2cb798",
   "metadata": {
    "scrolled": true
   },
   "outputs": [
    {
     "data": {
      "text/plain": [
       "array([[ 49.15 ,  17.5  ,  26.76 ,   7.355,  21.42 ],\n",
       "       [ 47.85 ,  17.5  ,  28.795,   8.335,  19.45 ],\n",
       "       [ 56.6  ,  18.5  ,  21.915,   7.135,  18.425],\n",
       "       [ 47.   ,  16.5  ,  25.195,   8.84 ,  17.095],\n",
       "       [ 33.7  ,  12.   ,  25.915,   8.47 ,  18.16 ],\n",
       "       [ 61.   ,  19.   ,  21.425,   6.675,  19.235],\n",
       "       [ 46.   ,  14.5  ,  25.58 ,   7.925,  19.47 ],\n",
       "       [ 50.7  ,  18.5  ,  22.505,   8.155,  16.53 ],\n",
       "       [ 31.1  ,  12.5  ,  23.225,   9.565,  14.635],\n",
       "       [ 18.05 ,   8.5  ,  30.655,   9.185,  18.03 ],\n",
       "       [ 50.7  ,  18.5  ,  22.395,   8.345,  16.11 ],\n",
       "       [ 37.   ,   9.   ,  48.395,   7.96 ,  35.6  ],\n",
       "       [ 46.65 ,  13.   ,  27.015,   7.455,  21.82 ],\n",
       "       [ 19.85 ,   8.5  ,  19.355,   8.165,  14.2  ],\n",
       "       [ 37.4  ,  10.   ,  38.765,   9.91 ,  23.245],\n",
       "       [ 38.5  ,  18.   ,  15.205,   7.355,  12.25 ],\n",
       "       [ 40.5  ,  10.   ,  32.1  ,   7.68 ,  24.875],\n",
       "       [ 22.5  ,   7.5  ,  33.83 ,   8.975,  21.75 ],\n",
       "       [ 46.1  ,  14.5  ,  26.455,   8.215,  19.305],\n",
       "       [ 25.75 ,   7.5  ,  26.17 ,   7.99 ,  19.78 ],\n",
       "       [ 42.25 ,  13.5  ,  27.78 ,   8.74 ,  19.155],\n",
       "       [ 27.25 ,   8.   ,  30.67 ,  10.35 ,  18.28 ],\n",
       "       [ 40.05 ,  11.   ,  25.48 ,   6.945,  22.04 ],\n",
       "       [ 60.   ,  13.5  ,  34.335,   7.315,  28.46 ],\n",
       "       [ 37.75 ,  11.   ,  28.15 ,   7.98 ,  20.9  ],\n",
       "       [ 32.   ,  10.5  ,  27.28 ,   9.08 ,  18.08 ],\n",
       "       [ 25.   ,   6.   ,  35.56 ,   7.88 ,  26.25 ],\n",
       "       [ 36.25 ,   7.5  ,  35.91 ,   7.48 ,  29.015],\n",
       "       [ 17.5  ,   6.   ,  22.125,   7.41 ,  17.74 ],\n",
       "       [ 20.5  ,   4.5  ,  64.07 ,   8.665,  40.07 ],\n",
       "       [ 16.25 ,   4.5  ,  36.745,   8.7  ,  23.915],\n",
       "       [ 34.2  ,  12.   ,  28.33 ,   8.555,  20.11 ],\n",
       "       [ 34.5  ,  10.   ,  29.625,   8.675,  20.5  ],\n",
       "       [ 37.95 ,  11.5  ,  34.54 ,   8.95 ,  23.075],\n",
       "       [ 27.25 ,   5.5  ,  45.415,   9.045,  30.1  ],\n",
       "       [ 39.5  ,   8.   ,  48.67 ,   8.285,  33.98 ],\n",
       "       [ 19.75 ,   4.   ,  48.3  ,   9.87 ,  29.43 ],\n",
       "       [ 10.   ,   2.5  ,  18.1  ,   9.775,  10.8  ],\n",
       "       [ 20.05 ,   7.5  ,  23.51 ,   8.08 ,  17.635],\n",
       "       [  4.   ,   2.   ,   6.25 ,  12.415,   4.5  ],\n",
       "       [ 15.5  ,   3.   ,  49.125,   8.515,  34.5  ],\n",
       "       [ 15.5  ,   4.5  ,  22.58 ,   6.65 ,  20.   ],\n",
       "       [ 19.   ,   3.5  ,  52.33 ,   9.325,  33.705],\n",
       "       [ 19.5  ,   4.   ,  42.1  ,   9.3  ,  27.4  ],\n",
       "       [ 13.45 ,   3.   ,  50.165,  11.565,  27.495],\n",
       "       [ 10.65 ,   5.   ,  19.09 ,  10.145,  11.5  ],\n",
       "       [  8.   ,   1.5  ,  38.   ,   7.335,  31.5  ],\n",
       "       [ 12.   ,   3.5  ,  30.5  ,   8.435,  21.6  ],\n",
       "       [  3.25 ,   2.   ,  24.   ,  13.64 ,  10.25 ],\n",
       "       [ 10.65 ,   2.5  ,  47.5  ,  10.685,  26.75 ],\n",
       "       [  3.5  ,   1.   ,  10.5  ,   9.25 ,   6.   ],\n",
       "       [ 11.5  ,   2.5  ,  37.   ,   8.24 ,  26.25 ],\n",
       "       [  2.5  ,   0.5  ,   4.5  ,   8.375,   3.   ],\n",
       "       [ 14.7  ,   1.5  , 103.5  ,   9.795,  63.5  ],\n",
       "       [  3.   ,   1.   ,  27.5  ,   8.625,  18.   ],\n",
       "       [ 22.55 ,   5.5  ,  50.9  ,   8.925,  32.45 ],\n",
       "       [  2.   ,   0.5  ,  11.   ,  11.25 ,   6.   ],\n",
       "       [  8.05 ,   3.   ,  42.9  ,  10.2  ,  24.1  ],\n",
       "       [ 30.   ,   7.   ,  16.285,   9.165,  12.21 ],\n",
       "       [ 14.85 ,   3.5  ,  16.425,  10.555,  11.785],\n",
       "       [  3.   ,   0.5  ,  21.   ,  11.75 ,  12.   ],\n",
       "       [ 12.   ,   2.   ,  28.625,  12.45 ,  16.5  ],\n",
       "       [  1.   ,   0.   ,   0.   ,  13.5  ,   0.   ]])"
      ]
     },
     "execution_count": 15,
     "metadata": {},
     "output_type": "execute_result"
    }
   ],
   "source": [
    "X"
   ]
  },
  {
   "cell_type": "code",
   "execution_count": 16,
   "id": "c623afda",
   "metadata": {
    "scrolled": true
   },
   "outputs": [
    {
     "data": {
      "text/plain": [
       "array([ 850,  840,  700,  100,  100,  900,  300,  420,    0,  100,  380,\n",
       "        500,  600,  500,  500,  720, 1250,  710,  580,    0,  260,   95,\n",
       "        880,  850,  400,  260,  320,  200,    0,    0,  320, 1100,  420,\n",
       "        220,  400,  700,  480,    0,  300,   50,  220,  300,   75,  100,\n",
       "          0,   20,  100,   50,    0,  620,  360,   70,    0,  220,  190,\n",
       "         80,  100,  500,  200,    0,    0,  340,    0], dtype=int64)"
      ]
     },
     "execution_count": 16,
     "metadata": {},
     "output_type": "execute_result"
    }
   ],
   "source": [
    "y"
   ]
  },
  {
   "cell_type": "code",
   "execution_count": 17,
   "id": "55abff11",
   "metadata": {
    "scrolled": true
   },
   "outputs": [
    {
     "data": {
      "text/plain": [
       "array([[ 49.15 ,  17.5  ,  26.76 ,   7.355,  21.42 ],\n",
       "       [ 47.85 ,  17.5  ,  28.795,   8.335,  19.45 ],\n",
       "       [ 56.6  ,  18.5  ,  21.915,   7.135,  18.425],\n",
       "       [ 47.   ,  16.5  ,  25.195,   8.84 ,  17.095],\n",
       "       [ 33.7  ,  12.   ,  25.915,   8.47 ,  18.16 ],\n",
       "       [ 61.   ,  19.   ,  21.425,   6.675,  19.235],\n",
       "       [ 46.   ,  14.5  ,  25.58 ,   7.925,  19.47 ],\n",
       "       [ 50.7  ,  18.5  ,  22.505,   8.155,  16.53 ],\n",
       "       [ 31.1  ,  12.5  ,  23.225,   9.565,  14.635],\n",
       "       [ 18.05 ,   8.5  ,  30.655,   9.185,  18.03 ],\n",
       "       [ 50.7  ,  18.5  ,  22.395,   8.345,  16.11 ],\n",
       "       [ 37.   ,   9.   ,  48.395,   7.96 ,  35.6  ],\n",
       "       [ 46.65 ,  13.   ,  27.015,   7.455,  21.82 ],\n",
       "       [ 19.85 ,   8.5  ,  19.355,   8.165,  14.2  ],\n",
       "       [ 37.4  ,  10.   ,  38.765,   9.91 ,  23.245],\n",
       "       [ 38.5  ,  18.   ,  15.205,   7.355,  12.25 ],\n",
       "       [ 40.5  ,  10.   ,  32.1  ,   7.68 ,  24.875],\n",
       "       [ 22.5  ,   7.5  ,  33.83 ,   8.975,  21.75 ],\n",
       "       [ 46.1  ,  14.5  ,  26.455,   8.215,  19.305],\n",
       "       [ 25.75 ,   7.5  ,  26.17 ,   7.99 ,  19.78 ],\n",
       "       [ 42.25 ,  13.5  ,  27.78 ,   8.74 ,  19.155],\n",
       "       [ 27.25 ,   8.   ,  30.67 ,  10.35 ,  18.28 ],\n",
       "       [ 40.05 ,  11.   ,  25.48 ,   6.945,  22.04 ],\n",
       "       [ 60.   ,  13.5  ,  34.335,   7.315,  28.46 ],\n",
       "       [ 37.75 ,  11.   ,  28.15 ,   7.98 ,  20.9  ],\n",
       "       [ 32.   ,  10.5  ,  27.28 ,   9.08 ,  18.08 ],\n",
       "       [ 25.   ,   6.   ,  35.56 ,   7.88 ,  26.25 ],\n",
       "       [ 36.25 ,   7.5  ,  35.91 ,   7.48 ,  29.015],\n",
       "       [ 17.5  ,   6.   ,  22.125,   7.41 ,  17.74 ],\n",
       "       [ 20.5  ,   4.5  ,  64.07 ,   8.665,  40.07 ],\n",
       "       [ 16.25 ,   4.5  ,  36.745,   8.7  ,  23.915],\n",
       "       [ 34.2  ,  12.   ,  28.33 ,   8.555,  20.11 ],\n",
       "       [ 34.5  ,  10.   ,  29.625,   8.675,  20.5  ],\n",
       "       [ 37.95 ,  11.5  ,  34.54 ,   8.95 ,  23.075],\n",
       "       [ 27.25 ,   5.5  ,  45.415,   9.045,  30.1  ],\n",
       "       [ 39.5  ,   8.   ,  48.67 ,   8.285,  33.98 ],\n",
       "       [ 19.75 ,   4.   ,  48.3  ,   9.87 ,  29.43 ],\n",
       "       [ 10.   ,   2.5  ,  18.1  ,   9.775,  10.8  ],\n",
       "       [ 20.05 ,   7.5  ,  23.51 ,   8.08 ,  17.635],\n",
       "       [  4.   ,   2.   ,   6.25 ,  12.415,   4.5  ],\n",
       "       [ 15.5  ,   3.   ,  49.125,   8.515,  34.5  ],\n",
       "       [ 15.5  ,   4.5  ,  22.58 ,   6.65 ,  20.   ],\n",
       "       [ 19.   ,   3.5  ,  52.33 ,   9.325,  33.705],\n",
       "       [ 19.5  ,   4.   ,  42.1  ,   9.3  ,  27.4  ],\n",
       "       [ 13.45 ,   3.   ,  50.165,  11.565,  27.495],\n",
       "       [ 10.65 ,   5.   ,  19.09 ,  10.145,  11.5  ],\n",
       "       [  8.   ,   1.5  ,  38.   ,   7.335,  31.5  ],\n",
       "       [ 12.   ,   3.5  ,  30.5  ,   8.435,  21.6  ],\n",
       "       [  3.25 ,   2.   ,  24.   ,  13.64 ,  10.25 ],\n",
       "       [ 10.65 ,   2.5  ,  47.5  ,  10.685,  26.75 ],\n",
       "       [  3.5  ,   1.   ,  10.5  ,   9.25 ,   6.   ],\n",
       "       [ 11.5  ,   2.5  ,  37.   ,   8.24 ,  26.25 ],\n",
       "       [  2.5  ,   0.5  ,   4.5  ,   8.375,   3.   ],\n",
       "       [ 14.7  ,   1.5  , 103.5  ,   9.795,  63.5  ],\n",
       "       [  3.   ,   1.   ,  27.5  ,   8.625,  18.   ],\n",
       "       [ 22.55 ,   5.5  ,  50.9  ,   8.925,  32.45 ],\n",
       "       [  2.   ,   0.5  ,  11.   ,  11.25 ,   6.   ],\n",
       "       [  8.05 ,   3.   ,  42.9  ,  10.2  ,  24.1  ],\n",
       "       [ 30.   ,   7.   ,  16.285,   9.165,  12.21 ],\n",
       "       [ 14.85 ,   3.5  ,  16.425,  10.555,  11.785],\n",
       "       [  3.   ,   0.5  ,  21.   ,  11.75 ,  12.   ],\n",
       "       [ 12.   ,   2.   ,  28.625,  12.45 ,  16.5  ],\n",
       "       [  1.   ,   0.   ,   0.   ,  13.5  ,   0.   ]])"
      ]
     },
     "execution_count": 17,
     "metadata": {},
     "output_type": "execute_result"
    }
   ],
   "source": [
    "from sklearn.impute import SimpleImputer\n",
    "imputer = SimpleImputer(missing_values=np.nan, strategy='mean')\n",
    "imputer.fit(X[:, :])\n",
    "X[:, :] = imputer.transform(X[:, :])\n",
    "X"
   ]
  },
  {
   "cell_type": "code",
   "execution_count": 18,
   "id": "bb73e37e",
   "metadata": {},
   "outputs": [],
   "source": [
    "from sklearn.model_selection import train_test_split\n",
    "X_train, X_test, y_train, y_test = train_test_split(X, y, test_size = 0.2, random_state = 0)"
   ]
  },
  {
   "cell_type": "code",
   "execution_count": 19,
   "id": "d360e425",
   "metadata": {},
   "outputs": [
    {
     "data": {
      "text/plain": [
       "(50, 5)"
      ]
     },
     "execution_count": 19,
     "metadata": {},
     "output_type": "execute_result"
    }
   ],
   "source": [
    "X_train.shape"
   ]
  },
  {
   "cell_type": "code",
   "execution_count": 20,
   "id": "8a4ac5e1",
   "metadata": {},
   "outputs": [
    {
     "data": {
      "text/plain": [
       "(50,)"
      ]
     },
     "execution_count": 20,
     "metadata": {},
     "output_type": "execute_result"
    }
   ],
   "source": [
    "y_train.shape"
   ]
  },
  {
   "cell_type": "code",
   "execution_count": 21,
   "id": "9013a913",
   "metadata": {},
   "outputs": [
    {
     "data": {
      "text/plain": [
       "LinearRegression()"
      ]
     },
     "execution_count": 21,
     "metadata": {},
     "output_type": "execute_result"
    }
   ],
   "source": [
    "from sklearn.linear_model import LinearRegression\n",
    "from sklearn.preprocessing import PolynomialFeatures\n",
    "poly_reg = PolynomialFeatures(degree = 2)\n",
    "X_poly = poly_reg.fit_transform(X_train)\n",
    "lin_reg_2 = LinearRegression()\n",
    "lin_reg_2.fit(X_poly, y_train)"
   ]
  },
  {
   "cell_type": "code",
   "execution_count": 22,
   "id": "f2fccfaf",
   "metadata": {},
   "outputs": [
    {
     "name": "stdout",
     "output_type": "stream",
     "text": [
      "Mean squared error: 60207.73\n",
      "Coefficient of determination: -0.05\n"
     ]
    }
   ],
   "source": [
    "from sklearn.metrics import mean_squared_error,r2_score\n",
    "y_pred=lin_reg_2.predict(poly_reg.fit_transform(X_test))\n",
    "# The mean squared error\n",
    "print('Mean squared error: %.2f'% mean_squared_error(y_test, y_pred))\n",
    "# The coefficient of determination: 1 is perfect prediction\n",
    "print('Coefficient of determination: %.2f'% r2_score(y_test, y_pred))"
   ]
  }
 ],
 "metadata": {
  "kernelspec": {
   "display_name": "Python 3 (ipykernel)",
   "language": "python",
   "name": "python3"
  },
  "language_info": {
   "codemirror_mode": {
    "name": "ipython",
    "version": 3
   },
   "file_extension": ".py",
   "mimetype": "text/x-python",
   "name": "python",
   "nbconvert_exporter": "python",
   "pygments_lexer": "ipython3",
   "version": "3.9.6"
  }
 },
 "nbformat": 4,
 "nbformat_minor": 5
}
